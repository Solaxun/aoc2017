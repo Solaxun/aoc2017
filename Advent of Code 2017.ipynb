{
 "cells": [
  {
   "cell_type": "code",
   "execution_count": 1,
   "metadata": {
    "collapsed": true
   },
   "outputs": [],
   "source": [
    "import itertools\n",
    "import requests\n",
    "import hashlib\n",
    "import os\n",
    "import re\n",
    "import collections\n",
    "from functools import reduce"
   ]
  },
  {
   "cell_type": "markdown",
   "metadata": {},
   "source": [
    "## Search Functions\n",
    "For two different problems I thought I would need a BFS / DFS but didn't end up needing them.  I did however, waste a lot of time debugging them since I'm coding them from memory and they are easy to introduce subtle bugs into (at least for me). Since I'm fairly sure I'll need some search at some point, I'm just going to leave them here for future use (to be expanded as necessary, e.g. I'm not going to bother with `A*` until I need to)."
   ]
  },
  {
   "cell_type": "code",
   "execution_count": 2,
   "metadata": {},
   "outputs": [],
   "source": [
    "def bfs(start,goal,successors = lambda x: x):\n",
    "    frontier = collections.deque([[start]])\n",
    "    seen = set(tuple(start))\n",
    "    while frontier:\n",
    "        path = frontier.popleft()\n",
    "        node = path[-1]\n",
    "        if tuple(node) not in seen:\n",
    "            seen.add(tuple(node))\n",
    "            for s in successors(node):\n",
    "                if s == goal:\n",
    "                    return path,len(path)\n",
    "                frontier.append(path + [s])\n",
    "    return seen\n",
    "\n",
    "def dfs(start,goal,successors = lambda x: x):\n",
    "    frontier = [[start]]\n",
    "    seen = set(tuple(start))\n",
    "    while frontier:\n",
    "        path = frontier.pop()\n",
    "        node = path[-1]\n",
    "        if tuple(node) not in seen:\n",
    "            seen.add(tuple(node))\n",
    "            for s in successors(node):\n",
    "                if s == goal:\n",
    "                    return path,len(path)\n",
    "                frontier.append(path + [s])\n",
    "    return seen"
   ]
  },
  {
   "cell_type": "markdown",
   "metadata": {},
   "source": [
    "# Day One\n",
    "This should be pretty simple... for part 1 all you need to do is compare adjacent items up until the length of the list minus 1 (minus 1 because at the end, or second to last element, we compare to  i + 1).  Since I'm going for time, rather than spend the extra 30 seconds writing the code to handle when the index goes beyond the list, I just eyeballed it and saw the last element was the same as the first, and added it.\n"
   ]
  },
  {
   "cell_type": "code",
   "execution_count": 3,
   "metadata": {
    "collapsed": true
   },
   "outputs": [],
   "source": [
    "data = open('day1.txt').read().strip()\n"
   ]
  },
  {
   "cell_type": "markdown",
   "metadata": {},
   "source": [
    "## part one"
   ]
  },
  {
   "cell_type": "code",
   "execution_count": 4,
   "metadata": {},
   "outputs": [
    {
     "data": {
      "text/plain": [
       "1069"
      ]
     },
     "execution_count": 4,
     "metadata": {},
     "output_type": "execute_result"
    }
   ],
   "source": [
    "sum([int(x) for x,y in (zip(data, data[1:])) if x == y]) + 3 #cheated :)"
   ]
  },
  {
   "cell_type": "markdown",
   "metadata": {},
   "source": [
    "## part two"
   ]
  },
  {
   "cell_type": "code",
   "execution_count": 5,
   "metadata": {
    "collapsed": true
   },
   "outputs": [],
   "source": [
    "size = len(data) // 2"
   ]
  },
  {
   "cell_type": "code",
   "execution_count": 6,
   "metadata": {
    "collapsed": true
   },
   "outputs": [],
   "source": [
    "res = []\n",
    "for i in range(len(data)):\n",
    "    ix = min(i + size,i + size - len(data))\n",
    "    if data[i] == data[ix]:\n",
    "        res.append(int(data[i]))"
   ]
  },
  {
   "cell_type": "code",
   "execution_count": 7,
   "metadata": {},
   "outputs": [
    {
     "data": {
      "text/plain": [
       "1268"
      ]
     },
     "execution_count": 7,
     "metadata": {},
     "output_type": "execute_result"
    }
   ],
   "source": [
    "sum(res)"
   ]
  },
  {
   "cell_type": "markdown",
   "metadata": {},
   "source": [
    "# Day Two\n",
    "Our input for day two is a series of rows containing tab delimited numbers, meant to mimic a spreadsheet layout.  This is straight-forward to parse by simply splitting on newlines to get the rows, and then doing a regex on each row to get numbers out, rather than dealing with the tabs. Once this is done, you still have to convert each text input to an integer in order to perform the arithmetic."
   ]
  },
  {
   "cell_type": "code",
   "execution_count": 144,
   "metadata": {
    "collapsed": true
   },
   "outputs": [],
   "source": [
    "data2 = open('day2.txt').read().strip()"
   ]
  },
  {
   "cell_type": "code",
   "execution_count": 145,
   "metadata": {
    "collapsed": true
   },
   "outputs": [],
   "source": [
    "rows = data2.split('\\n')"
   ]
  },
  {
   "cell_type": "markdown",
   "metadata": {},
   "source": [
    "## part one\n",
    "Part one asks us to find the difference of the minimum and maximum of each row, and then sum all of those values to calculate the \"checksum\" which will be our answer.  "
   ]
  },
  {
   "cell_type": "code",
   "execution_count": 146,
   "metadata": {
    "collapsed": true
   },
   "outputs": [],
   "source": [
    "numrows = [list(map(int,re.findall('\\d+',row))) for row in rows]"
   ]
  },
  {
   "cell_type": "code",
   "execution_count": 147,
   "metadata": {},
   "outputs": [
    {
     "data": {
      "text/plain": [
       "37923"
      ]
     },
     "execution_count": 147,
     "metadata": {},
     "output_type": "execute_result"
    }
   ],
   "source": [
    "sum(max(row) - min(row) for row in numrows)"
   ]
  },
  {
   "cell_type": "markdown",
   "metadata": {},
   "source": [
    "## part two\n",
    "Part two requires us to find the only two evenly divisible items in each row, calculate the value of this division, and then sum the results.  Itertools to the rescue.... I'll just get all combinations of size 2 for each row and test divisibility"
   ]
  },
  {
   "cell_type": "code",
   "execution_count": 148,
   "metadata": {},
   "outputs": [
    {
     "data": {
      "text/plain": [
       "263.0"
      ]
     },
     "execution_count": 148,
     "metadata": {},
     "output_type": "execute_result"
    }
   ],
   "source": [
    "sum(max(x,y) / min(x,y) for row in numrows \n",
    "                        for x,y in itertools.combinations(row,2) \n",
    "                        if max(x,y) % min(x,y) == 0)"
   ]
  },
  {
   "cell_type": "markdown",
   "metadata": {},
   "source": [
    "# Day 3 \n",
    "The minute I read this puzzle I may have mumbled a few choice words to myself.  I've seen something similar before on project euler and punted on it, because I'm not particularly great at the more \"mathy\" or number theory-esque problem types.  But, since this is Advent of Code, and I'm fully committed to at least doing my very best to solve all 25 days, I'm gonna have to buckle down and try to figure it out."
   ]
  },
  {
   "cell_type": "markdown",
   "metadata": {},
   "source": [
    "## Part One\n",
    "This is my WIP for part one, I havent even gotten to part two.  Day four has come and gone and was fortunately way easiser. I'm still mulling this over and trying to find a solution without looking at others because I feel I'm getting close since I've found the recurrence relation, I just need to figure out how to use that to calculate the distance to the target.\n",
    "\n",
    "<strong>UPDATE</strong>: After basically an entire day of kicking around ideas and ironing out some bugs, I got a working solution for part 1, a bit before day 5 was released.  The code is most likely overly complicated which tends to be the case when I don't have a clear idea how to solve a problem and I'm just iteratively building on ideas until I get to a solution.  Below the solutions to part one and two are some properties I found which I had originally hoped to use to solve part one (a recurrence relation) but in the end couldn't figure out how to get a solution using this approach.\n",
    "\n",
    "I was a bit nervous on what part two was going to be like since most people seemed to think that was much more difficult than the first part, but it turned out to be fairly straight-foward to extend my part one code to solve part two.  I guess I got lucky in the way I implemented part one - my guess is alot of people found a nice analytical solution to part one and then had to scrap and start from nothing for part two.  My lack of math skills saved me from the same folly since I basically had constructed the grid already in part one, which made part two much simpler."
   ]
  },
  {
   "cell_type": "code",
   "execution_count": 15,
   "metadata": {},
   "outputs": [
    {
     "name": "stdout",
     "output_type": "stream",
     "text": [
      "438\n"
     ]
    }
   ],
   "source": [
    "import math\n",
    "\n",
    "loc = [0,0]\n",
    "target = 265149\n",
    "MOVES = [[0,1],[-1,0],[0,-2],[2,0],[0,2]]\n",
    "INCREMENTS = [[0,0],[-2,0],[0,-2],[2,0],[0,2]]\n",
    "moves_so_far = 1\n",
    "\n",
    "def vector_process(v1,v2,func=lambda x,y: x+y):\n",
    "    return [func(a,b) for a,b in zip(v1,v2)]\n",
    "\n",
    "def move(loc,move,moves_so_far):\n",
    "    new_loc = vector_process(loc,move)\n",
    "    moves_so_far += sum([abs(num) for num in move])\n",
    "    return new_loc,moves_so_far\n",
    "\n",
    "def manhattan_distance(c1,c2):\n",
    "    return sum(vector_process(c1,c2,func=lambda x,y: abs(x-y)))\n",
    "\n",
    "def cumulative_move_steps(move):\n",
    "    x,y = move \n",
    "    moves = []\n",
    "    if x < 0:\n",
    "        for i in range(-1,x-1,-1):\n",
    "            moves.append([-1,y])\n",
    "    elif x > 0:\n",
    "        for i in range(1,x+1):\n",
    "            moves.append([1,y])\n",
    "    elif y < 0:\n",
    "        for i in range(-1,y-1,-1):\n",
    "            moves.append([x,-1])\n",
    "    elif y > 0:\n",
    "        for i in range(1,y+1):\n",
    "            moves.append([x,1])\n",
    "    return moves\n",
    "\n",
    "def part1():\n",
    "    global MOVES,loc,moves_so_far\n",
    "    while True:\n",
    "        for m in MOVES:\n",
    "            for c in cumulative_move_steps(m):\n",
    "                loc,moves_so_far = move(loc,c,moves_so_far)\n",
    "                if moves_so_far >= target:\n",
    "                    return manhattan_distance(loc,[0,0])\n",
    "        MOVES =  [vector_process(m[0],m[1]) \n",
    "                  for m in zip(MOVES,INCREMENTS)]\n",
    "\n",
    "\n",
    "def make_grid(row,col):\n",
    "    return [[0 for i in range(col)] for j in range(row)]\n",
    "print(part1())\n",
    "\n"
   ]
  },
  {
   "cell_type": "code",
   "execution_count": 16,
   "metadata": {},
   "outputs": [
    {
     "name": "stdout",
     "output_type": "stream",
     "text": [
      "266330\n"
     ]
    }
   ],
   "source": [
    "def part2(grid):\n",
    "    MOVES = [[0,1],[-1,0],[0,-2],[2,0],[0,2]]\n",
    "    cur_number = 1\n",
    "    grid_size = len(grid)\n",
    "    center_x,center_y = loc = [grid_size // 2] * 2\n",
    "    grid[center_x][center_y] = 1\n",
    "    def move(loc,move,cur_number):\n",
    "        new_loc = vector_process(loc,move)\n",
    "        cur_number = sum(grid[x][y] for x,y in neighbors(new_loc))\n",
    "        return new_loc,cur_number\n",
    "    def neighbors(loc):\n",
    "        return [vector_process(loc,(i,j)) for i in range(-1,2)\n",
    "                                          for j in range(-1,2) \n",
    "                                          if (0 <= i + loc[0] < grid_size and 0 <= j + loc[1] < grid_size)\n",
    "                                          and (i,j) != (0,0)]\n",
    "    while True:\n",
    "        for m in MOVES:\n",
    "            for c in cumulative_move_steps(m):\n",
    "                loc,cur_number = move(loc,c,cur_number)\n",
    "                grid[loc[0]][loc[1]] = cur_number\n",
    "                if cur_number > target:\n",
    "                # return manhattan_distance(loc,[center_x,center_y]) RTFM\n",
    "                    return cur_number\n",
    "        MOVES =  [vector_process(m[0],m[1]) \n",
    "                  for m in zip(MOVES,INCREMENTS)]\n",
    "\n",
    "\n",
    "print(part2(make_grid(515,515)))"
   ]
  },
  {
   "cell_type": "markdown",
   "metadata": {},
   "source": [
    "The following were my original attempts at solving the puzzle before I threw in the towel and slept on it.  The next day I still could'nt figure out how to use these to solve part 1 so I just caved and chose to build the grid as seen above.  I still got some satisfaction out of this though, because I really like recursion and always feel recursive solutions are elegant and beautiful :)"
   ]
  },
  {
   "cell_type": "code",
   "execution_count": 17,
   "metadata": {
    "collapsed": true
   },
   "outputs": [],
   "source": [
    "diags = [3,9,7,5]\n",
    "lrud =  [2,4,6,8]  \n",
    "\n",
    "def gen_spiral(n,target = target):\n",
    "    n = n\n",
    "    d = n - 1\n",
    "    steps = 1\n",
    "    nums = [n]\n",
    "    while n < target:\n",
    "        d += 8\n",
    "        n += d\n",
    "        steps += 1\n",
    "        nums.append(n)\n",
    "    return nums\n",
    "    \n",
    "for d in diags:\n",
    "    spirals = gen_spiral(d)\n",
    "    if target in spirals:\n",
    "        print(spirals.index(target) * 2)\n",
    "        break\n",
    "for x in lrud:\n",
    "    spirals = gen_spiral(x)\n",
    "    if target in spirals:\n",
    "        print(spirals.index(target))\n",
    "        break\n",
    "            \n"
   ]
  },
  {
   "cell_type": "code",
   "execution_count": 18,
   "metadata": {},
   "outputs": [
    {
     "name": "stdout",
     "output_type": "stream",
     "text": [
      "[6, 19, 40, 69, 106, 151, 204, 265, 334, 411]\n"
     ]
    }
   ],
   "source": [
    "print(gen_spiral(6)[0:10])"
   ]
  },
  {
   "cell_type": "code",
   "execution_count": 19,
   "metadata": {},
   "outputs": [
    {
     "name": "stdout",
     "output_type": "stream",
     "text": [
      "[24, 47, 78, 117, 164, 219, 282, 353, 432, 519]\n"
     ]
    }
   ],
   "source": [
    "def gen_spiral(n,prevn):\n",
    "    yield n\n",
    "    d = n - prevn + 8\n",
    "    n += d\n",
    "    if n < target: yield from gen_spiral(n,n-d)\n",
    "\n",
    "print(list(gen_spiral(24,9))[0:10])"
   ]
  },
  {
   "cell_type": "code",
   "execution_count": 20,
   "metadata": {},
   "outputs": [
    {
     "data": {
      "text/plain": [
       "[1, 9, 25, 49, 81, 121, 169, 225, 289, 361]"
      ]
     },
     "execution_count": 20,
     "metadata": {},
     "output_type": "execute_result"
    }
   ],
   "source": [
    "def spiral(n):\n",
    "    return 1 if n <= 0 else 2 * spiral(n-1) - spiral(n-2) + 8\n",
    "\n",
    "list(map(spiral,range(0,10)))"
   ]
  },
  {
   "cell_type": "markdown",
   "metadata": {},
   "source": [
    "# Day 4\n",
    "Here the input is a colleciton of strings delimited by newlines.  Within each string, or \"phrase\", we need to see if there are any duplicates and filter those out, and then count the remaining \"phrases\"."
   ]
  },
  {
   "cell_type": "markdown",
   "metadata": {},
   "source": [
    "## Part One"
   ]
  },
  {
   "cell_type": "code",
   "execution_count": 21,
   "metadata": {
    "collapsed": true
   },
   "outputs": [],
   "source": [
    "data = open('day4.txt').read().strip()\n",
    "words = data.split('\\n')"
   ]
  },
  {
   "cell_type": "code",
   "execution_count": 22,
   "metadata": {},
   "outputs": [
    {
     "name": "stdout",
     "output_type": "stream",
     "text": [
      "325\n"
     ]
    }
   ],
   "source": [
    "valid = [phrase for phrase in words if len(set(phrase.split())) == len(phrase.split())]\n",
    "print(len(valid))"
   ]
  },
  {
   "cell_type": "markdown",
   "metadata": {},
   "source": [
    "## Part Two\n",
    "To get anagrams of a word I just found all permutations of the word in question, and then checked the rest of the list for each permutation.  This can be wasteful since you end up calculating unnecessary permutations - for example, if your list is \n",
    "\n",
    "['Christian','Christina']\n",
    "\n",
    "Only the last two letters have changed, so you should not consider any permutations where any of the first seven letters differ.  You can do this by creating a list of valid prefixes of your candidates, and making sure to not progress along the permutaitons unless your current permutation is seen in that candidate prefix list.  \n",
    "\n",
    "Because the amount of data I'm dealing with is small, and I am trying to move quickly, I'm not going to prematurely optimize and just brute force it by calculating all permutations, regardless of whether or not they are potentially invalid early on."
   ]
  },
  {
   "cell_type": "code",
   "execution_count": 23,
   "metadata": {
    "collapsed": true
   },
   "outputs": [],
   "source": [
    "def anagrams(word):\n",
    "    return {''.join(a) for a in (itertools.permutations(word))}\n"
   ]
  },
  {
   "cell_type": "code",
   "execution_count": 24,
   "metadata": {
    "collapsed": true
   },
   "outputs": [],
   "source": [
    "def anagram_found(text):\n",
    "    words = text.split()\n",
    "    for i in range(len(words) - 1):\n",
    "        for a in anagrams(words[i]):\n",
    "            if a in words[i+1:]:\n",
    "                return True\n",
    "    return False\n",
    "            "
   ]
  },
  {
   "cell_type": "code",
   "execution_count": 25,
   "metadata": {
    "collapsed": true
   },
   "outputs": [],
   "source": [
    "assert(not(anagram_found('abcde fghij')))\n",
    "assert(anagram_found('abcde xyz ecdab'))\n",
    "assert(not(anagram_found('a ab abc abd abf abj')))\n",
    "assert(not(anagram_found('iiii oiii ooii oooi oooo')))\n",
    "assert(anagram_found('oiii ioii iioi iiio'))"
   ]
  },
  {
   "cell_type": "code",
   "execution_count": 26,
   "metadata": {},
   "outputs": [
    {
     "data": {
      "text/plain": [
       "119"
      ]
     },
     "execution_count": 26,
     "metadata": {},
     "output_type": "execute_result"
    }
   ],
   "source": [
    "phrases = [phrase for phrase in words if not(anagram_found(phrase))]\n",
    "len(phrases)"
   ]
  },
  {
   "cell_type": "code",
   "execution_count": 27,
   "metadata": {},
   "outputs": [
    {
     "data": {
      "text/plain": [
       "['ojufqke gpd olzirc jfao cjfh rcivvw pqqpudp',\n",
       " 'wchrl pzibt nvcae wceb',\n",
       " 'rdwytj kxuyet bqnzlv nyntjan dyrpsn zhi kbxlj ivo',\n",
       " 'qwx ubca dxudny oxagv wqrv lhzsl qmsgv dxs awbquc akelgma',\n",
       " 'rrdlfpk ohoszz qiznasf awchv qnvse']"
      ]
     },
     "execution_count": 27,
     "metadata": {},
     "output_type": "execute_result"
    }
   ],
   "source": [
    "phrases[0:5]"
   ]
  },
  {
   "cell_type": "markdown",
   "metadata": {},
   "source": [
    "# Day 5\n",
    "Day 5 reminds me of some of the problems from last year where you had to build a mini interpreter for a limited set of machine instructions, but on a smaller scale.  The instructions turned out to be fast enough without trying to find a patterm or optimizing the sequence by some form of pre-processing, but I wouldn't be surprised if, like last year, later puzzles build on the sequence and make it prohitively slow without some optmizations.  \n",
    "\n",
    "As presented, it's fairly easy to solve using some globals to keep state, and just bailing once the position is outside of the list.  I do wonder how I'll approach this in a more functional style, since I'm trying to do all of these problems in Clojure once I've finished them in Python first.  Typically whenever I think `while` in an imperative language, I think `reduce` in a functional language, so I'll probably start there."
   ]
  },
  {
   "cell_type": "code",
   "execution_count": 28,
   "metadata": {
    "collapsed": true
   },
   "outputs": [],
   "source": [
    "data = open('day5.txt').read().strip().split('\\n')\n",
    "nums = [int(x) for x in data]"
   ]
  },
  {
   "cell_type": "markdown",
   "metadata": {},
   "source": [
    "## Part One"
   ]
  },
  {
   "cell_type": "code",
   "execution_count": 29,
   "metadata": {},
   "outputs": [
    {
     "name": "stdout",
     "output_type": "stream",
     "text": [
      "381680\n"
     ]
    }
   ],
   "source": [
    "pos = 0\n",
    "cnt = 0\n",
    "while pos in range(len(nums)):\n",
    "    offset = nums[pos]\n",
    "    nums[pos] += 1\n",
    "    pos += offset\n",
    "    cnt += 1\n",
    "print(cnt)    "
   ]
  },
  {
   "cell_type": "markdown",
   "metadata": {},
   "source": [
    "## Part Two"
   ]
  },
  {
   "cell_type": "code",
   "execution_count": 30,
   "metadata": {},
   "outputs": [
    {
     "name": "stdout",
     "output_type": "stream",
     "text": [
      "29717847\n"
     ]
    }
   ],
   "source": [
    "nums = [int(x) for x in data] #rebuild nums since we mutated it in step 1\n",
    "\n",
    "pos = 0\n",
    "cnt = 0\n",
    "while pos in range(len(nums)):\n",
    "    offset = nums[pos]\n",
    "    if offset >= 3:\n",
    "        nums[pos] -=1\n",
    "    else:\n",
    "        nums[pos] +=1\n",
    "    pos += offset\n",
    "    cnt += 1\n",
    "print(cnt)    "
   ]
  },
  {
   "cell_type": "markdown",
   "metadata": {},
   "source": [
    "# Day 6\n",
    "This puzzle involves taking a sequence of numbers, or \"memory banks\", each of which has \"n\" blocks.  We are asked to find how many cycles it takes until any sequence is seen a second time, where a cycle is defined as follows:\n",
    "- find the maximum of the sequence, ties are by the first seen (lowest index)\n",
    "- reduce the blocks at this location to zero, and spread that amount over all of the subsequent banks (list elements), wrapping around once the end is hit.\n",
    "- return the number of cycles that have occured once a repeat is hit."
   ]
  },
  {
   "cell_type": "code",
   "execution_count": 31,
   "metadata": {
    "collapsed": true
   },
   "outputs": [],
   "source": [
    "nums = [10,3,15,10,5,15,5,15,9,2,5,8,5,2,3,6]"
   ]
  },
  {
   "cell_type": "markdown",
   "metadata": {},
   "source": [
    "## Part One\n",
    "I started down the path of a recursive solution, because that seemed the most natural to me at the time.  Just make the updates to the list, add the result to the `seen` set, and recur with an incremented count.  Except I forgot about the 1,000 depth recursion limit in Python.  I guess this is what happens when you spend too much time in Clojure lately.  I burned a good 20 minutes trying to manually increase the recursion limit using `sys.setrecursionlimit(n)` and kept getting an infuriating error `TypeError: 'int' object is not callable`.  I eventually gave up since this isn't the documented behavior and I couldn't figure out why it was failing.  In any event, I probably should not treat an iterative problem with a recursive solution in a language without tail call optmization, so I just converted the solution to a nested `while` loop instead.\n",
    "\n",
    "Here is my recursive version, which worked on the small test input and then exploded on the actual input when the limit surpassed 1,000:"
   ]
  },
  {
   "cell_type": "code",
   "execution_count": 32,
   "metadata": {
    "collapsed": true
   },
   "outputs": [],
   "source": [
    "def cycle(nums,res=set(),cnt=1):\n",
    "    highest = max(nums)\n",
    "    loc = nums.index(highest)\n",
    "    nums[loc] = 0\n",
    "    while highest > 0:\n",
    "        loc += 1\n",
    "        if loc > len(nums) - 1:\n",
    "            loc =  loc % (len(nums))\n",
    "        nums[loc] += 1\n",
    "        highest -= 1\n",
    "    if tuple(nums) in res:\n",
    "        return nums,cnt\n",
    "    res.add(tuple(nums))\n",
    "    return cycle(nums,res,cnt+1)"
   ]
  },
  {
   "cell_type": "markdown",
   "metadata": {},
   "source": [
    "and here is the version I had to replace it with after giving up on changing the recursion limit (which is obviously bad form, but I had already invested time in a working solution and wanted to not burn more time by re-writing (which didn't really take that much effort in the end anyhow).  Something about this solution rubs me the wrong way, it doesn't feel that elegant but it gets the job done.  I think it's the nested while loops that are giving me that feeling.  Anyhow - when I'm trying to solve these fast I focus on just getting something working first, making it pretty comes later.  Maybe I'll clean all these up and show the first version and the second polished version when I have more time."
   ]
  },
  {
   "cell_type": "code",
   "execution_count": 33,
   "metadata": {},
   "outputs": [
    {
     "name": "stdout",
     "output_type": "stream",
     "text": [
      "[1, 1, 0, 15, 14, 13, 12, 10, 10, 9, 8, 7, 6, 4, 3, 5] 14029\n"
     ]
    }
   ],
   "source": [
    "nums = [10,3,15,10,5,15,5,15,9,2,5,8,5,2,3,6] #rebind since mutated above\n",
    "seen = set()\n",
    "cnt = 1\n",
    "while True:\n",
    "    highest = max(nums)\n",
    "    loc = nums.index(highest)\n",
    "    nums[loc] = 0\n",
    "    while highest > 0:\n",
    "        loc += 1\n",
    "        if loc > len(nums) - 1:\n",
    "            loc =  loc % (len(nums))\n",
    "        nums[loc] += 1\n",
    "        highest -= 1\n",
    "    if tuple(nums) in seen:\n",
    "        print(nums,cnt)\n",
    "        break\n",
    "    seen.add(tuple(nums))\n",
    "    cnt += 1\n"
   ]
  },
  {
   "cell_type": "markdown",
   "metadata": {},
   "source": [
    "## Part Two\n",
    "Here the problem is modified such that instead of finding the cycles, we find the distance between cycles.  E.G. if the first occurence was on our third cycle, and the repeat of that occurence was at the 10th cycle, the distance is seven.  The only modificaton I need to make is swapping out my `seen` set for a dictionary, with the key as the actual sequence (tuple so it's hashable), and the value as the cycle it occured in.  On repeat I just find the current count minus the previous count, which i look up using the current sequence."
   ]
  },
  {
   "cell_type": "code",
   "execution_count": 34,
   "metadata": {},
   "outputs": [
    {
     "name": "stdout",
     "output_type": "stream",
     "text": [
      "[1, 1, 0, 15, 14, 13, 12, 10, 10, 9, 8, 7, 6, 4, 3, 5] 2765\n"
     ]
    }
   ],
   "source": [
    "nums = [10,3,15,10,5,15,5,15,9,2,5,8,5,2,3,6] #rebind since mutated above\n",
    "seen = dict()\n",
    "cnt = 1\n",
    "while True:\n",
    "    highest = max(nums)\n",
    "    loc = nums.index(highest)\n",
    "    nums[loc] = 0\n",
    "    while highest > 0:\n",
    "        loc += 1\n",
    "        if loc > len(nums) - 1:\n",
    "            loc =  loc % (len(nums))\n",
    "        nums[loc] += 1\n",
    "        highest -= 1\n",
    "    if tuple(nums) in seen:\n",
    "        print(nums,cnt - seen[tuple(nums)])\n",
    "        break\n",
    "    seen[tuple(nums)] = cnt\n",
    "    cnt += 1\n",
    "\n"
   ]
  },
  {
   "cell_type": "markdown",
   "metadata": {},
   "source": [
    "# Day Seven\n",
    "This puzzle is about trees and recursion - two things that typically go well together.  We are given a tree in the form of an adjacency list, but we don't know where the root of the tree is - our task is to find it.  Typically when traversing a tree, you start at the root and either recursively evaluate children (for depth first search), or maintain a queue and evaluate children left to right (for breadth first search)\n"
   ]
  },
  {
   "cell_type": "markdown",
   "metadata": {},
   "source": [
    "## Part One\n",
    "\n",
    "I found this problem a little tricky - typically when working with tree or graph structures I know where I'm starting, here I had to think about how I would find that start if I didn't know.  The path I chose to go down (no pun intended) was to invert the tree, and create mappings from children-to-parents instead of the given parent-to-children structure.  This means that if the input had a parent `A -> ['B','C','C']` I would create three entires in my reverse tree for each child, all of which mapped to the parent value `A`.  \n",
    "\n",
    "Once that's done, I picked a random node ('dzzbkv' below) and started working my way up the parents, until their weren't any.  I have a feeling this might not be the best way to solve it, but it worked for me."
   ]
  },
  {
   "cell_type": "code",
   "execution_count": 35,
   "metadata": {
    "collapsed": true
   },
   "outputs": [],
   "source": [
    "data = open('day7.txt').read().strip().split('\\n')"
   ]
  },
  {
   "cell_type": "code",
   "execution_count": 36,
   "metadata": {
    "collapsed": true
   },
   "outputs": [],
   "source": [
    "nodes = [re.findall('\\w+',node) for node in data]\n",
    "tree = {n[0]:n[2:] for n in nodes}\n",
    "reverse_tree = collections.defaultdict(list)\n",
    "for k,v in tree.items():\n",
    "    for node in v:\n",
    "        reverse_tree[node].append(k)"
   ]
  },
  {
   "cell_type": "code",
   "execution_count": 37,
   "metadata": {},
   "outputs": [
    {
     "data": {
      "text/plain": [
       "'hlhomy'"
      ]
     },
     "execution_count": 37,
     "metadata": {},
     "output_type": "execute_result"
    }
   ],
   "source": [
    "def traverse(tree,start='dzzbvkv'):\n",
    "    \"\"\"pick a random start in the reversed tree, continue until nowhere to go\"\"\"\n",
    "    if tree[start]:\n",
    "        for n in tree[start]:\n",
    "            return traverse(tree,n)\n",
    "    return start\n",
    "traverse(reverse_tree)"
   ]
  },
  {
   "cell_type": "markdown",
   "metadata": {},
   "source": [
    "## Part Two\n",
    "Part two is tricky for me - it's still tree traversal, but you now have to incorporate the \"weights\" present at each node.  The way you incorporate them takes a bit of explaining so rather than regurgitate it here, just read the instructions on Advent of Code.\n",
    "\n",
    "In short, however, the idea is to make sure that the cumulative values of each child node of a parent are all equal, and therefore the parent is balanced.  One node is not balanced, and we need to find what it's value should be in order to make it balanced. Cumulative means that a node's value is the sum of it's children's values, plus it's own."
   ]
  },
  {
   "cell_type": "code",
   "execution_count": 38,
   "metadata": {},
   "outputs": [
    {
     "name": "stdout",
     "output_type": "stream",
     "text": [
      "1571 66 1505\n",
      "22313 6292 16021\n",
      "111630 111573 57\n",
      "57\n"
     ]
    }
   ],
   "source": [
    "data = open('day7.txt').read().strip().split('\\n')\n",
    "tree = [[list(re.match('(\\w+) \\((\\d+)\\)',x[0]).groups()),x[1:]]\n",
    "        for x in [line.split('->') for line in data]]\n",
    "\n",
    "new_tree = {}\n",
    "\n",
    "for node, neighbors in tree:\n",
    "    val = int(node.pop())\n",
    "    if neighbors:\n",
    "        neighbors = [n.strip() for n in neighbors[0].strip().split(',')]\n",
    "    new_tree[node[0]] = [val, neighbors]\n",
    "\n",
    "root = 'hlhomy'\n",
    "\n",
    "def traverse(tree,node=root):\n",
    "    __, children = tree[node]\n",
    "    if not children: \n",
    "        return __\n",
    "    for c in children:\n",
    "        val, children = tree[node]\n",
    "        # if found: return \n",
    "        tree[node][0] = traverse(tree,c) + val\n",
    "    __ , children = tree[node]\n",
    "    cvals = [tree[c][0] for c in children]\n",
    "    if len(set(cvals)) == 1:\n",
    "        return tree[node][0]\n",
    "    else:\n",
    "        unbalanced_value   = [c for c in cvals if cvals.count(c) == 1][0]\n",
    "        val_it_should_be   = [c for c in cvals if cvals.count(c) != 1][0]\n",
    "        unbalanced_node    = [c for c in children if tree[c][0] == unbalanced_value][0]\n",
    "        __, unbalanced_nodes_children = tree[unbalanced_node]\n",
    "        unbalanced_node_values = [tree[c][0] for c in unbalanced_nodes_children]\n",
    "        val_to_balance  = val_it_should_be - sum(unbalanced_node_values)\n",
    "        print(val_it_should_be,sum(unbalanced_node_values),val_to_balance)\n",
    "        return  val_to_balance\n",
    "\n",
    "print(traverse(new_tree))"
   ]
  },
  {
   "cell_type": "markdown",
   "metadata": {},
   "source": [
    "# Day Eight\n",
    "Another mini-interpreter style problem.  This one is easy to parse, and the instructions are fairly limited.  I am almost certain we'll see a similar puzzle later with more involved parsing, and a greater set of operations to choose from.  Part 1 and 2 are both really solved by the same piece of code below, the only difference is that part 1 asks for the maximum register value *after* all instructions have run, while part 2 asks for the maximum value ever seen."
   ]
  },
  {
   "cell_type": "markdown",
   "metadata": {},
   "source": [
    "## Part One"
   ]
  },
  {
   "cell_type": "code",
   "execution_count": 39,
   "metadata": {
    "collapsed": true
   },
   "outputs": [],
   "source": [
    "data = open('day8.txt').read().strip().split('\\n')"
   ]
  },
  {
   "cell_type": "code",
   "execution_count": 40,
   "metadata": {
    "collapsed": true
   },
   "outputs": [],
   "source": [
    "instructions = [re.match('(\\w+) (inc|dec) (-*\\d+) if (.*)',instr).groups() for instr in data]"
   ]
  },
  {
   "cell_type": "code",
   "execution_count": 41,
   "metadata": {
    "collapsed": true
   },
   "outputs": [],
   "source": [
    "registers = {instr[0]:0 for instr in instructions}\n",
    "\n",
    "def process_expr(expr):\n",
    "    reg, test, val = expr.split(' ')\n",
    "    reg_val = registers[reg]\n",
    "    expr = (''.join(str(reg_val) + test  + str(val)))\n",
    "    return eval(expr)\n",
    "\n",
    "greatest_so_far = 0\n",
    "\n",
    "for reg,op,val,expr in instructions:\n",
    "    current_reg_val = registers[reg]\n",
    "    if process_expr(expr):\n",
    "        if op == 'inc':\n",
    "            registers[reg] = current_reg_val + int(val)\n",
    "        else:\n",
    "            registers[reg] = current_reg_val - int(val)\n",
    "    current_highest_val = max(registers.values())\n",
    "    if current_highest_val > greatest_so_far:\n",
    "        greatest_so_far = current_highest_val\n"
   ]
  },
  {
   "cell_type": "code",
   "execution_count": 42,
   "metadata": {},
   "outputs": [
    {
     "name": "stdout",
     "output_type": "stream",
     "text": [
      "6696\n"
     ]
    }
   ],
   "source": [
    "print(greatest_so_far)"
   ]
  },
  {
   "cell_type": "markdown",
   "metadata": {},
   "source": [
    "## Part Two\n",
    "Processing the instruction set and making the indicated modifications to the registers results in solving both problems at once - although I didn't know this until I read part two.  After going through all the instructions and changing the register values, part one is just the max of the register values, and the only change I needed to make for part two was adding the global `greatest_so_far` and the `if current_highest_val > greatest_so_far` test at the bottom"
   ]
  },
  {
   "cell_type": "code",
   "execution_count": 43,
   "metadata": {},
   "outputs": [
    {
     "name": "stdout",
     "output_type": "stream",
     "text": [
      "6061\n"
     ]
    }
   ],
   "source": [
    "print(max(registers.values()))"
   ]
  },
  {
   "cell_type": "markdown",
   "metadata": {},
   "source": [
    "## Day Nine\n",
    "I'm noticing a theme here... lot's of recursion and interpreters.  I tried to use recursion but got bit again by python's limit sinc the input text is much larger than 1,000, and had to re-write to some nested while loops, yet again.  I included the recursive version below anyhow, since I had already buit it on the tests cases before figuring out the input was too large for it to work.\n",
    "\n",
    "Part one and two are both solved below, there is only a slight modification for part two."
   ]
  },
  {
   "cell_type": "code",
   "execution_count": 44,
   "metadata": {
    "collapsed": true
   },
   "outputs": [],
   "source": [
    "data = open('day9.txt').read().strip()"
   ]
  },
  {
   "cell_type": "code",
   "execution_count": 45,
   "metadata": {},
   "outputs": [
    {
     "data": {
      "text/plain": [
       "'tests pass'"
      ]
     },
     "execution_count": 45,
     "metadata": {},
     "output_type": "execute_result"
    }
   ],
   "source": [
    "def process_stream(s,val=1,garbage=False):\n",
    "    if not s: return 0\n",
    "    first, rest = s[0], s[1:]\n",
    "    if first == '{':\n",
    "        if not garbage:\n",
    "            return val + process_stream(rest,val + 1,garbage)\n",
    "        else:\n",
    "            return process_stream(rest,val,garbage)\n",
    "    elif first == '}':\n",
    "        if not garbage:\n",
    "            return process_stream(rest, val - 1,garbage)\n",
    "        else:\n",
    "            return process_stream(rest, val,garbage)\n",
    "    elif first == '!':\n",
    "        return process_stream(rest[1:],val,garbage)\n",
    "    elif first == '<':\n",
    "        return process_stream(rest,val,garbage=True)\n",
    "    elif first == '>':\n",
    "        return process_stream(rest,val,garbage=False)\n",
    "    else:\n",
    "        return process_stream(rest,val,garbage)\n",
    "        \n",
    "# print(process_stream(data))   #text > 1,000, over python's recursion limit :(\n",
    "\n",
    "def test():\n",
    "    assert(process_stream('{}') == 1)\n",
    "    assert(process_stream('{{{}}}') == 6)\n",
    "    assert(process_stream('{{},{}}') == 5)\n",
    "    assert(process_stream('{{{},{},{{}}}}') == 16)\n",
    "    assert(process_stream('{<a>,<a>,<a>,<a>}') == 1)\n",
    "    assert(process_stream('{{<ab>},{<ab>},{<ab>},{<ab>}}') == 9)\n",
    "    assert(process_stream('{{<!!>},{<!!>},{<!!>},{<!!>}}') == 9)\n",
    "    assert(process_stream('{{<a!>},{<a!>},{<a!>},{<ab>}}') == 3)\n",
    "    return \"tests pass\"\n",
    "test()"
   ]
  },
  {
   "cell_type": "code",
   "execution_count": 46,
   "metadata": {},
   "outputs": [
    {
     "name": "stdout",
     "output_type": "stream",
     "text": [
      "tests pass.\n"
     ]
    }
   ],
   "source": [
    "def process_stream_non_recursive(s,part=1):\n",
    "    val = 0\n",
    "    ix = 0\n",
    "    totals = []\n",
    "    garbage_count = 0\n",
    "    while ix < len(s):\n",
    "        if s[ix] == '{':\n",
    "            val += 1\n",
    "            totals.append(val)\n",
    "        elif s[ix] == '}':\n",
    "            val -= 1\n",
    "        elif s[ix] == '<':\n",
    "            ix += 1\n",
    "            while ix < len(s):\n",
    "                if s[ix] == '!':\n",
    "                    ix += 2\n",
    "                elif s[ix] == '>':\n",
    "                    break\n",
    "                else:\n",
    "                    garbage_count += 1\n",
    "                    ix += 1\n",
    "        ix += 1\n",
    "    if part == 1:\n",
    "        return sum(totals) #part one\n",
    "    else:\n",
    "        return garbage_count #part two\n",
    "\n",
    "def test_day9():\n",
    "    assert(process_stream_non_recursive('{}') == 1)\n",
    "    assert(process_stream_non_recursive('{{{}}}') == 6)\n",
    "    assert(process_stream_non_recursive('{{},{}}') == 5)\n",
    "    assert(process_stream_non_recursive('{{{},{},{{}}}}') == 16)\n",
    "    assert(process_stream_non_recursive('{<a>,<a>,<a>,<a>}') == 1)\n",
    "    assert(process_stream_non_recursive('{{<ab>},{<ab>},{<ab>},{<ab>}}') == 9)\n",
    "    assert(process_stream_non_recursive('{{<!!>},{<!!>},{<!!>},{<!!>}}') == 9)\n",
    "    assert(process_stream_non_recursive('{{<a!>},{<a!>},{<a!>},{<ab>}}') == 3)\n",
    "    print(\"tests pass.\")\n",
    "test_day9()    "
   ]
  },
  {
   "cell_type": "markdown",
   "metadata": {},
   "source": [
    "## Part One"
   ]
  },
  {
   "cell_type": "code",
   "execution_count": 47,
   "metadata": {},
   "outputs": [
    {
     "data": {
      "text/plain": [
       "14212"
      ]
     },
     "execution_count": 47,
     "metadata": {},
     "output_type": "execute_result"
    }
   ],
   "source": [
    "process_stream_non_recursive(data,part=1)"
   ]
  },
  {
   "cell_type": "markdown",
   "metadata": {},
   "source": [
    "## Part Two"
   ]
  },
  {
   "cell_type": "code",
   "execution_count": 48,
   "metadata": {},
   "outputs": [
    {
     "data": {
      "text/plain": [
       "6569"
      ]
     },
     "execution_count": 48,
     "metadata": {},
     "output_type": "execute_result"
    }
   ],
   "source": [
    "process_stream_non_recursive(data,part=2)"
   ]
  },
  {
   "cell_type": "markdown",
   "metadata": {},
   "source": [
    "# Day Ten\n",
    "OK... this gets my vote for most obnoxious puzzle so far.  It was conceptually simple, but for me it was extremely tedious to code part 1.  I kept introducing OBO bugs and had a difficult time re-allocating the sorted array back in the main list.  Even though part 2 is considerably more involved, I found it straightforward once part 1 was out of the way."
   ]
  },
  {
   "cell_type": "markdown",
   "metadata": {},
   "source": [
    "## Part One"
   ]
  },
  {
   "cell_type": "code",
   "execution_count": 49,
   "metadata": {
    "collapsed": true
   },
   "outputs": [],
   "source": [
    "lengths = [189,1,111,246,254,2,0,120,215,93,255,50,84,15,94,62]"
   ]
  },
  {
   "cell_type": "code",
   "execution_count": 50,
   "metadata": {
    "collapsed": true
   },
   "outputs": [],
   "source": [
    "def process(data=list(range(0,256)),lengths=lengths):\n",
    "    pos = 0\n",
    "    skip = 0\n",
    "    for l in lengths:\n",
    "        end = pos + l\n",
    "        if end > len(data):\n",
    "            end = end % len(data)\n",
    "            right, left = data[pos:], data[0:end]\n",
    "            all_rev = list(reversed(right+left))\n",
    "            data[pos:] = all_rev[0:len(right)]\n",
    "            data[0:end] = all_rev[len(data[pos:]):]\n",
    "        else:\n",
    "            data = data[0:pos] + list(reversed(data[pos:end])) + data[end:]\n",
    "        pos = pos + skip + l\n",
    "        if pos > len(data):\n",
    "            pos = pos % len(data)\n",
    "        skip += 1\n",
    "    return data[0] * data[1] "
   ]
  },
  {
   "cell_type": "code",
   "execution_count": 51,
   "metadata": {},
   "outputs": [
    {
     "data": {
      "text/plain": [
       "38415"
      ]
     },
     "execution_count": 51,
     "metadata": {},
     "output_type": "execute_result"
    }
   ],
   "source": [
    "process()"
   ]
  },
  {
   "cell_type": "markdown",
   "metadata": {},
   "source": [
    "## Part Two"
   ]
  },
  {
   "cell_type": "code",
   "execution_count": 52,
   "metadata": {},
   "outputs": [
    {
     "data": {
      "text/plain": [
       "'9de8846431eef262be78f590e39a4848'"
      ]
     },
     "execution_count": 52,
     "metadata": {},
     "output_type": "execute_result"
    }
   ],
   "source": [
    "stringify = str(lengths)[1:-1].replace(' ','')\n",
    "to_ascii = list(map(ord,stringify)) + [17, 31, 73, 47, 23]\n",
    "\n",
    "def process(data=list(range(0,256)),lengths=to_ascii):\n",
    "    pos = 0\n",
    "    skip = 0\n",
    "    for i in range(64):\n",
    "        for l in lengths:\n",
    "            end = pos + l\n",
    "            if end > len(data):\n",
    "                end = end % len(data)\n",
    "                right, left = data[pos:], data[0:end]\n",
    "                all_rev = list(reversed(right+left))\n",
    "                data[pos:] = all_rev[0:len(right)]\n",
    "                data[0:end] = all_rev[len(data[pos:]):]\n",
    "            else:\n",
    "                data = data[0:pos] + list(reversed(data[pos:end])) + data[end:]\n",
    "            pos = pos + skip + l\n",
    "            if pos > len(data):\n",
    "                pos = pos % len(data)\n",
    "            skip += 1\n",
    "    return data\n",
    "\n",
    "knotted = process()\n",
    "xord = [knotted[i:i+16] for i in range(0,len(knotted),16)]\n",
    "xord = [reduce(lambda x, y: x ^ y, segment) for segment in xord]\n",
    "to_hex = ''.join([hex(x)[2:].zfill(2) for x in xord])\n",
    "to_hex"
   ]
  },
  {
   "cell_type": "markdown",
   "metadata": {},
   "source": [
    "# Day 11\n",
    "When I read the description and provided test cases, I had no clue what was going on or how to map from directions to the provided distance test cases.  After some googling, and twitter mentions of redblob games (which I've used extensively in the past for it's ridiculously awesome graph search walk-throughs), I figured out how to move in a hex grid, and then the problem was straight-forward.\n",
    "\n",
    "That said - I still found the wording confusing.  I interprted the instructions as follows:\n",
    " - we are given a path taken by the \"child\"\n",
    " - find the end of the path, or the location the child ends up at\n",
    " - find the shortest number of steps to get to that location.\n",
    " \n",
    "Because of the \"shortest number of steps\" part, I had originally went down the path (no pun intended) of coding a Breadth First Search, after calculating the final location, to find the number of steps to that locaiton.\n",
    "\n",
    "It turns out all the problem really wanted was the distance from the start of that final location (it already is the shortest path).  You can see this by comparing the results of the BFS below vs the results of simply getting the distance of the end location from the start, or `(0,0,0)`.  They are the same."
   ]
  },
  {
   "cell_type": "markdown",
   "metadata": {},
   "source": [
    "## Part One & Two "
   ]
  },
  {
   "cell_type": "code",
   "execution_count": 83,
   "metadata": {
    "collapsed": true
   },
   "outputs": [],
   "source": [
    "data = open('day11.txt').read().strip().split(',')"
   ]
  },
  {
   "cell_type": "code",
   "execution_count": 84,
   "metadata": {},
   "outputs": [
    {
     "data": {
      "text/plain": [
       "(759.0, 1501.0, [445, -759, 314])"
      ]
     },
     "execution_count": 84,
     "metadata": {},
     "output_type": "execute_result"
    }
   ],
   "source": [
    "pos = [0,0,0]\n",
    "dirs = ['nw','n','ne','sw','s','se']\n",
    "hex_moves = [(-1,1,0),(0,1,-1),(1,0,-1),(-1,0,1),(0,-1,1),(1,-1,0)]\n",
    "coord_map = dict(zip(dirs,hex_moves))\n",
    "\n",
    "def hex_move(moves,start=(0,0,0)):\n",
    "    max_dist = 0\n",
    "    for m in moves:\n",
    "        start = vector_process(coord_map[m],start)\n",
    "        cur_dist = sum([abs(p) for p in start])/2\n",
    "        if cur_dist > max_dist:\n",
    "            max_dist = cur_dist\n",
    "    return cur_dist,max_dist,start # cur_dist = part 1, max_dist = part 2\n",
    "\n",
    "# assert(hex_move('ne,ne,ne'.split(',')) ==  3)\n",
    "# assert(hex_move('ne,ne,sw,sw'.split(',')) == 0) \n",
    "# assert(hex_move('ne,ne,s,s'.split(',')) == 2)\n",
    "# assert(hex_move('se,sw,se,sw,sw'.split(',')) ==  3)\n",
    "\n",
    "hex_move(data)"
   ]
  },
  {
   "cell_type": "code",
   "execution_count": 88,
   "metadata": {},
   "outputs": [
    {
     "name": "stdout",
     "output_type": "stream",
     "text": [
      "759\n"
     ]
    }
   ],
   "source": [
    "path, length = bfs((0,0,0),\n",
    "                   [445, -759, 314],\n",
    "                   successors=lambda x: [vector_process(m,x) for m in hex_moves])\n",
    "print(length)"
   ]
  },
  {
   "cell_type": "markdown",
   "metadata": {},
   "source": [
    "# Day 12\n",
    "The input is text in the form of `a <-> [b,c,d]`, representing a bi-directional graph as an adjacency list - so `a` can go to `b,c & d`, and the reverse is also true.  We are asked to find the number of \"programs contained in the ID of 0\", which is basically asking how many unique connections, either directly or indirectly, are there to 0.  \n",
    "\n",
    "For this I'll use a DFS starting at 0 and just return the length of everything that can be visited starting from that point."
   ]
  },
  {
   "cell_type": "markdown",
   "metadata": {},
   "source": [
    "## Part One"
   ]
  },
  {
   "cell_type": "code",
   "execution_count": 56,
   "metadata": {},
   "outputs": [
    {
     "data": {
      "text/plain": [
       "306"
      ]
     },
     "execution_count": 56,
     "metadata": {},
     "output_type": "execute_result"
    }
   ],
   "source": [
    "data = open('day12.txt').read().strip().split('\\n')\n",
    "data = [prog.split(' <-> ') for prog in data]\n",
    "data = {int(left):list(map(int,right.split(', '))) for left, right in data}\n",
    "\n",
    "def dfs(start,successors,cnt=0,visited=set()): # also cnt not incremented bc final stack frame is still 0 when returning up\n",
    "    if start not in visited:\n",
    "        visited.add(start)\n",
    "        for s in successors[start]:\n",
    "            dfs(s,successors,cnt + 1,visited) # had return here - bug, figure out why tomm\n",
    "    return len(visited)\n",
    "            \n",
    "dfs(0,data)"
   ]
  },
  {
   "cell_type": "code",
   "execution_count": 57,
   "metadata": {},
   "outputs": [
    {
     "data": {
      "text/plain": [
       "{0: [950, 1039],\n",
       " 1: [317, 904, 923],\n",
       " 2: [2],\n",
       " 3: [870],\n",
       " 4: [361],\n",
       " 5: [5],\n",
       " 6: [305, 842, 1932],\n",
       " 7: [438, 1509],\n",
       " 8: [985],\n",
       " 9: [425],\n",
       " 10: [121, 1532],\n",
       " 11: [285, 1242, 1753],\n",
       " 12: [632, 762, 829],\n",
       " 13: [662, 1429],\n",
       " 14: [215, 1155, 1523],\n",
       " 15: [43, 238, 1552],\n",
       " 16: [1050],\n",
       " 17: [275],\n",
       " 18: [26, 256],\n",
       " 19: [1656],\n",
       " 20: [1907],\n",
       " 21: [608, 1493, 1587, 1646],\n",
       " 22: [1748, 1774],\n",
       " 23: [723, 871],\n",
       " 24: [244, 624],\n",
       " 25: [25],\n",
       " 26: [18, 490, 545, 1123, 1958],\n",
       " 27: [27],\n",
       " 28: [832, 1227],\n",
       " 29: [285],\n",
       " 30: [223, 1317, 1773],\n",
       " 31: [283],\n",
       " 32: [921],\n",
       " 33: [395, 1772],\n",
       " 34: [1170],\n",
       " 35: [471, 885, 1119],\n",
       " 36: [936, 1831],\n",
       " 37: [263, 678, 1356, 1683, 1714],\n",
       " 38: [1238],\n",
       " 39: [167],\n",
       " 40: [804, 1127, 1419],\n",
       " 41: [365],\n",
       " 42: [1632, 1788],\n",
       " 43: [15, 403, 866],\n",
       " 44: [497, 503, 1305],\n",
       " 45: [130, 881, 1158],\n",
       " 46: [46, 744],\n",
       " 47: [867, 1391, 1630],\n",
       " 48: [48, 1363],\n",
       " 49: [1286],\n",
       " 50: [1687, 1966],\n",
       " 51: [138, 454, 1105],\n",
       " 52: [1647],\n",
       " 53: [762],\n",
       " 54: [54],\n",
       " 55: [340, 1913],\n",
       " 56: [100, 720],\n",
       " 57: [547, 1417, 1501, 1785],\n",
       " 58: [138, 402, 1593],\n",
       " 59: [1620, 1915],\n",
       " 60: [896, 982],\n",
       " 61: [61, 1666],\n",
       " 62: [1157],\n",
       " 63: [1423, 1484],\n",
       " 64: [64, 400],\n",
       " 65: [1323],\n",
       " 66: [1437],\n",
       " 67: [1390, 1535],\n",
       " 68: [1597],\n",
       " 69: [414],\n",
       " 70: [173, 527, 743, 1806, 1958],\n",
       " 71: [393, 1585, 1680],\n",
       " 72: [391, 1863],\n",
       " 73: [73, 1571],\n",
       " 74: [537, 1861],\n",
       " 75: [138, 714],\n",
       " 76: [554, 1582],\n",
       " 77: [611],\n",
       " 78: [1452, 1706, 1804],\n",
       " 79: [1618],\n",
       " 80: [290, 1925],\n",
       " 81: [81, 315],\n",
       " 82: [1420, 1865],\n",
       " 83: [734, 1794],\n",
       " 84: [84, 343, 948],\n",
       " 85: [1161],\n",
       " 86: [971],\n",
       " 87: [270, 1024, 1541, 1688, 1903],\n",
       " 88: [931, 1024],\n",
       " 89: [378],\n",
       " 90: [954, 1519],\n",
       " 91: [276],\n",
       " 92: [342],\n",
       " 93: [615, 1667, 1745],\n",
       " 94: [747, 973, 1010],\n",
       " 95: [95],\n",
       " 96: [1299, 1924],\n",
       " 97: [463],\n",
       " 98: [1988],\n",
       " 99: [1417],\n",
       " 100: [56, 1924],\n",
       " 101: [148],\n",
       " 102: [807, 1177],\n",
       " 103: [103],\n",
       " 104: [248, 593, 895],\n",
       " 105: [113, 1090],\n",
       " 106: [410, 1114, 1557],\n",
       " 107: [107],\n",
       " 108: [1367],\n",
       " 109: [416, 705],\n",
       " 110: [1296, 1837],\n",
       " 111: [311, 1895],\n",
       " 112: [112, 668, 1720],\n",
       " 113: [105, 629, 1786],\n",
       " 114: [1221],\n",
       " 115: [151],\n",
       " 116: [368, 725, 1889],\n",
       " 117: [567, 1502],\n",
       " 118: [136, 461, 804],\n",
       " 119: [915, 1821],\n",
       " 120: [1342, 1826],\n",
       " 121: [10],\n",
       " 122: [1421, 1532],\n",
       " 123: [843, 1837],\n",
       " 124: [124],\n",
       " 125: [1679],\n",
       " 126: [126],\n",
       " 127: [1777, 1836],\n",
       " 128: [128],\n",
       " 129: [968],\n",
       " 130: [45, 251, 804, 1078],\n",
       " 131: [995],\n",
       " 132: [1420, 1498],\n",
       " 133: [776, 1300],\n",
       " 134: [134, 467],\n",
       " 135: [1176],\n",
       " 136: [118, 1509],\n",
       " 137: [207],\n",
       " 138: [51, 58, 75],\n",
       " 139: [680, 708, 1717, 1808],\n",
       " 140: [445, 1732],\n",
       " 141: [441],\n",
       " 142: [1280, 1787],\n",
       " 143: [216, 468, 1180, 1695],\n",
       " 144: [532, 996, 1794],\n",
       " 145: [145, 507],\n",
       " 146: [146],\n",
       " 147: [1871],\n",
       " 148: [101, 751, 793, 1601, 1603],\n",
       " 149: [1401, 1883],\n",
       " 150: [453, 999],\n",
       " 151: [115, 205, 496, 535],\n",
       " 152: [521, 1037],\n",
       " 153: [298, 760, 803, 1664],\n",
       " 154: [1888],\n",
       " 155: [1524],\n",
       " 156: [1138, 1146, 1335],\n",
       " 157: [1373, 1771, 1859],\n",
       " 158: [1020],\n",
       " 159: [1102],\n",
       " 160: [1265, 1274, 1660],\n",
       " 161: [1602, 1936],\n",
       " 162: [162, 171, 1173],\n",
       " 163: [293, 500, 960],\n",
       " 164: [777, 1147, 1192],\n",
       " 165: [1022, 1377],\n",
       " 166: [166, 508, 523, 825, 1259],\n",
       " 167: [39, 1626],\n",
       " 168: [1988],\n",
       " 169: [740],\n",
       " 170: [170, 571, 696, 859],\n",
       " 171: [162],\n",
       " 172: [1183],\n",
       " 173: [70, 295],\n",
       " 174: [517, 573],\n",
       " 175: [635],\n",
       " 176: [455, 457, 712, 1386, 1639],\n",
       " 177: [638, 1102],\n",
       " 178: [1802],\n",
       " 179: [862, 876, 1633],\n",
       " 180: [588],\n",
       " 181: [367, 1219],\n",
       " 182: [1370],\n",
       " 183: [799, 1489],\n",
       " 184: [377, 1415, 1642],\n",
       " 185: [185],\n",
       " 186: [459, 493],\n",
       " 187: [1524],\n",
       " 188: [367, 686, 930, 1643],\n",
       " 189: [1433],\n",
       " 190: [1312, 1351, 1723],\n",
       " 191: [375],\n",
       " 192: [989, 1088, 1096, 1891],\n",
       " 193: [193, 1405],\n",
       " 194: [1974],\n",
       " 195: [439, 1193, 1875],\n",
       " 196: [563],\n",
       " 197: [1981],\n",
       " 198: [1385],\n",
       " 199: [471],\n",
       " 200: [752, 783, 1346],\n",
       " 201: [201, 1023],\n",
       " 202: [399, 582],\n",
       " 203: [318, 1011],\n",
       " 204: [628, 1351, 1606],\n",
       " 205: [151],\n",
       " 206: [653],\n",
       " 207: [137, 328],\n",
       " 208: [250],\n",
       " 209: [357, 766, 853],\n",
       " 210: [810],\n",
       " 211: [1047, 1754],\n",
       " 212: [601],\n",
       " 213: [1660],\n",
       " 214: [214, 282, 1166, 1341, 1751],\n",
       " 215: [14],\n",
       " 216: [143, 1481, 1897],\n",
       " 217: [602],\n",
       " 218: [1325, 1581],\n",
       " 219: [426, 739, 1209],\n",
       " 220: [1854],\n",
       " 221: [614, 811],\n",
       " 222: [542, 963, 1841],\n",
       " 223: [30, 1237],\n",
       " 224: [335, 1911],\n",
       " 225: [1374, 1751],\n",
       " 226: [226, 1969],\n",
       " 227: [274, 966],\n",
       " 228: [230, 1207, 1739],\n",
       " 229: [944, 978, 1567],\n",
       " 230: [228, 273, 277, 1252],\n",
       " 231: [419, 763, 1579],\n",
       " 232: [232, 1893],\n",
       " 233: [436, 747],\n",
       " 234: [1884],\n",
       " 235: [980, 1694],\n",
       " 236: [236],\n",
       " 237: [1468, 1934],\n",
       " 238: [15],\n",
       " 239: [239, 362],\n",
       " 240: [396],\n",
       " 241: [1084, 1634],\n",
       " 242: [353],\n",
       " 243: [769, 1455],\n",
       " 244: [24],\n",
       " 245: [1528, 1605, 1905],\n",
       " 246: [1327],\n",
       " 247: [1457, 1550],\n",
       " 248: [104],\n",
       " 249: [987, 1041, 1949],\n",
       " 250: [208, 818],\n",
       " 251: [130, 484, 882],\n",
       " 252: [619, 1709],\n",
       " 253: [616],\n",
       " 254: [1092, 1288, 1328],\n",
       " 255: [1392],\n",
       " 256: [18, 648],\n",
       " 257: [360, 581, 1658],\n",
       " 258: [660, 905],\n",
       " 259: [287, 941, 1141, 1262],\n",
       " 260: [919],\n",
       " 261: [261, 425, 526, 646],\n",
       " 262: [418, 634],\n",
       " 263: [37, 964],\n",
       " 264: [484, 618],\n",
       " 265: [265, 1520],\n",
       " 266: [576, 609],\n",
       " 267: [762, 1807],\n",
       " 268: [515, 1172],\n",
       " 269: [458],\n",
       " 270: [87, 619, 775, 1157],\n",
       " 271: [1214],\n",
       " 272: [1175, 1697],\n",
       " 273: [230, 1875],\n",
       " 274: [227, 274, 1592],\n",
       " 275: [17, 615, 827, 1013],\n",
       " 276: [91, 313, 328, 1799],\n",
       " 277: [230],\n",
       " 278: [513, 1449],\n",
       " 279: [785, 996, 1375],\n",
       " 280: [1889],\n",
       " 281: [1501],\n",
       " 282: [214],\n",
       " 283: [31, 1239],\n",
       " 284: [1109, 1730],\n",
       " 285: [11, 29],\n",
       " 286: [974],\n",
       " 287: [259, 1030],\n",
       " 288: [288, 808, 1187],\n",
       " 289: [956, 1044],\n",
       " 290: [80, 1744, 1880],\n",
       " 291: [1142, 1376],\n",
       " 292: [314, 918, 1025],\n",
       " 293: [163, 387, 1845],\n",
       " 294: [547],\n",
       " 295: [173, 463],\n",
       " 296: [296, 1318],\n",
       " 297: [1141],\n",
       " 298: [153, 622],\n",
       " 299: [1225],\n",
       " 300: [1032, 1462],\n",
       " 301: [1299],\n",
       " 302: [391, 724],\n",
       " 303: [1301, 1599],\n",
       " 304: [304, 937],\n",
       " 305: [6, 1442],\n",
       " 306: [392, 828, 963],\n",
       " 307: [1127, 1618],\n",
       " 308: [727, 1620],\n",
       " 309: [387],\n",
       " 310: [1436, 1696, 1784],\n",
       " 311: [111],\n",
       " 312: [1156],\n",
       " 313: [276, 313, 596],\n",
       " 314: [292],\n",
       " 315: [81, 1360, 1817],\n",
       " 316: [1095],\n",
       " 317: [1, 476],\n",
       " 318: [203],\n",
       " 319: [906, 1008, 1989],\n",
       " 320: [1401],\n",
       " 321: [646, 1265, 1877],\n",
       " 322: [928, 1935],\n",
       " 323: [687],\n",
       " 324: [324],\n",
       " 325: [552, 783, 984],\n",
       " 326: [512],\n",
       " 327: [761, 1240, 1789],\n",
       " 328: [207, 276],\n",
       " 329: [1167, 1569],\n",
       " 330: [595, 1059],\n",
       " 331: [556],\n",
       " 332: [943, 1103, 1995],\n",
       " 333: [732],\n",
       " 334: [365],\n",
       " 335: [224, 335, 971, 1838],\n",
       " 336: [1052],\n",
       " 337: [401],\n",
       " 338: [338, 757, 1058],\n",
       " 339: [1481],\n",
       " 340: [55, 651],\n",
       " 341: [341, 637],\n",
       " 342: [92, 1116, 1749],\n",
       " 343: [84, 1087, 1266],\n",
       " 344: [384],\n",
       " 345: [1062],\n",
       " 346: [1318, 1659],\n",
       " 347: [355],\n",
       " 348: [753],\n",
       " 349: [1602],\n",
       " 350: [721],\n",
       " 351: [437],\n",
       " 352: [1478],\n",
       " 353: [242, 513],\n",
       " 354: [1476],\n",
       " 355: [347, 461, 471, 679],\n",
       " 356: [839, 1432],\n",
       " 357: [209, 1448],\n",
       " 358: [617, 1132, 1904],\n",
       " 359: [359, 1016, 1202],\n",
       " 360: [257],\n",
       " 361: [4, 1333],\n",
       " 362: [239, 1766],\n",
       " 363: [363],\n",
       " 364: [595, 663, 1091, 1174],\n",
       " 365: [41, 334, 958, 969, 1066, 1421],\n",
       " 366: [919, 1870],\n",
       " 367: [181, 188, 367, 1100, 1109, 1594],\n",
       " 368: [116, 583, 1206],\n",
       " 369: [1759],\n",
       " 370: [1928],\n",
       " 371: [1806],\n",
       " 372: [376],\n",
       " 373: [1335],\n",
       " 374: [1632],\n",
       " 375: [191, 456],\n",
       " 376: [372, 1997],\n",
       " 377: [184, 978],\n",
       " 378: [89, 771, 1831],\n",
       " 379: [588, 1941],\n",
       " 380: [1148, 1301],\n",
       " 381: [477, 1043, 1735, 1831],\n",
       " 382: [1222, 1388],\n",
       " 383: [568],\n",
       " 384: [344, 578],\n",
       " 385: [1752],\n",
       " 386: [1099, 1225],\n",
       " 387: [293, 309],\n",
       " 388: [1073, 1203, 1689],\n",
       " 389: [1799],\n",
       " 390: [606, 1631],\n",
       " 391: [72, 302, 751, 1705],\n",
       " 392: [306, 429, 1883, 1909],\n",
       " 393: [71, 1846],\n",
       " 394: [394, 585],\n",
       " 395: [33, 395],\n",
       " 396: [240, 1316],\n",
       " 397: [506, 677, 991, 1938],\n",
       " 398: [689, 826, 1435],\n",
       " 399: [202],\n",
       " 400: [64, 1190],\n",
       " 401: [337, 1707],\n",
       " 402: [58, 515, 985, 1691],\n",
       " 403: [43],\n",
       " 404: [509],\n",
       " 405: [1343, 1491, 1915],\n",
       " 406: [941],\n",
       " 407: [450, 534],\n",
       " 408: [967, 1816],\n",
       " 409: [1687],\n",
       " 410: [106, 1304],\n",
       " 411: [1351],\n",
       " 412: [485, 682],\n",
       " 413: [1029, 1873],\n",
       " 414: [69, 1998],\n",
       " 415: [1559],\n",
       " 416: [109, 1757],\n",
       " 417: [865, 1461],\n",
       " 418: [262, 729],\n",
       " 419: [231, 1465],\n",
       " 420: [1062, 1574],\n",
       " 421: [1177, 1920],\n",
       " 422: [533, 1435],\n",
       " 423: [540],\n",
       " 424: [1060, 1570],\n",
       " 425: [9, 261],\n",
       " 426: [219, 1424],\n",
       " 427: [643],\n",
       " 428: [481, 1705, 1942],\n",
       " 429: [392, 1324],\n",
       " 430: [1653, 1790],\n",
       " 431: [1815],\n",
       " 432: [782],\n",
       " 433: [667, 1355],\n",
       " 434: [1163, 1500],\n",
       " 435: [725, 1595, 1832, 1965],\n",
       " 436: [233],\n",
       " 437: [351, 1825],\n",
       " 438: [7],\n",
       " 439: [195],\n",
       " 440: [1686],\n",
       " 441: [141, 1900],\n",
       " 442: [1525],\n",
       " 443: [531],\n",
       " 444: [916],\n",
       " 445: [140, 715],\n",
       " 446: [1164, 1499, 1991],\n",
       " 447: [1516],\n",
       " 448: [1264, 1889],\n",
       " 449: [982],\n",
       " 450: [407, 1395],\n",
       " 451: [1506],\n",
       " 452: [452],\n",
       " 453: [150, 479, 1907],\n",
       " 454: [51, 1025],\n",
       " 455: [176, 1053],\n",
       " 456: [375, 681, 1544],\n",
       " 457: [176],\n",
       " 458: [269, 889, 1869],\n",
       " 459: [186, 490, 656, 698, 1261],\n",
       " 460: [1696],\n",
       " 461: [118, 355],\n",
       " 462: [777],\n",
       " 463: [97, 295, 1933],\n",
       " 464: [1075],\n",
       " 465: [1036, 1979],\n",
       " 466: [1277],\n",
       " 467: [134],\n",
       " 468: [143],\n",
       " 469: [1636],\n",
       " 470: [470, 555, 1068, 1130, 1298, 1748],\n",
       " 471: [35, 199, 355],\n",
       " 472: [1396],\n",
       " 473: [1651],\n",
       " 474: [704, 1504],\n",
       " 475: [610],\n",
       " 476: [317],\n",
       " 477: [381, 636],\n",
       " 478: [478, 1267, 1384],\n",
       " 479: [453],\n",
       " 480: [1303, 1797],\n",
       " 481: [428],\n",
       " 482: [735],\n",
       " 483: [1481, 1813],\n",
       " 484: [251, 264, 484, 1186],\n",
       " 485: [412, 501, 914],\n",
       " 486: [641, 647],\n",
       " 487: [666],\n",
       " 488: [1771],\n",
       " 489: [536, 812, 989],\n",
       " 490: [26, 459],\n",
       " 491: [1188],\n",
       " 492: [749],\n",
       " 493: [186],\n",
       " 494: [494, 1188],\n",
       " 495: [1918],\n",
       " 496: [151],\n",
       " 497: [44, 784, 868],\n",
       " 498: [498, 932, 1269, 1675, 1686],\n",
       " 499: [946, 1006],\n",
       " 500: [163, 1810],\n",
       " 501: [485, 1633],\n",
       " 502: [1405],\n",
       " 503: [44],\n",
       " 504: [599, 1604],\n",
       " 505: [613, 752],\n",
       " 506: [397, 1075, 1936],\n",
       " 507: [145],\n",
       " 508: [166],\n",
       " 509: [404, 758, 1280],\n",
       " 510: [864, 1719],\n",
       " 511: [886],\n",
       " 512: [326, 1433],\n",
       " 513: [278, 353],\n",
       " 514: [663, 1284, 1685],\n",
       " 515: [268, 402],\n",
       " 516: [516],\n",
       " 517: [174, 1665],\n",
       " 518: [1092],\n",
       " 519: [1850, 1966],\n",
       " 520: [655, 1434, 1501],\n",
       " 521: [152, 612, 709, 753],\n",
       " 522: [657, 774, 1733],\n",
       " 523: [166],\n",
       " 524: [1594],\n",
       " 525: [1778],\n",
       " 526: [261],\n",
       " 527: [70],\n",
       " 528: [1018, 1955],\n",
       " 529: [643],\n",
       " 530: [860, 1208],\n",
       " 531: [443, 599],\n",
       " 532: [144, 869, 1257],\n",
       " 533: [422, 738, 1872],\n",
       " 534: [407],\n",
       " 535: [151, 1467],\n",
       " 536: [489, 927],\n",
       " 537: [74, 755, 1756],\n",
       " 538: [1592],\n",
       " 539: [1771],\n",
       " 540: [423, 1356],\n",
       " 541: [1771],\n",
       " 542: [222, 1506],\n",
       " 543: [543],\n",
       " 544: [1366, 1504],\n",
       " 545: [26],\n",
       " 546: [546, 1926],\n",
       " 547: [57, 294],\n",
       " 548: [1031, 1517, 1741],\n",
       " 549: [1648, 1978],\n",
       " 550: [624, 1901, 1993],\n",
       " 551: [1132],\n",
       " 552: [325, 1292, 1348],\n",
       " 553: [791, 1295],\n",
       " 554: [76, 1245],\n",
       " 555: [470],\n",
       " 556: [331, 820, 1562],\n",
       " 557: [727, 1368],\n",
       " 558: [1739],\n",
       " 559: [1134],\n",
       " 560: [1633],\n",
       " 561: [577],\n",
       " 562: [593, 652],\n",
       " 563: [196, 1009],\n",
       " 564: [694, 1400, 1641, 1797],\n",
       " 565: [675, 1233],\n",
       " 566: [945, 1882],\n",
       " 567: [117],\n",
       " 568: [383, 828, 1614],\n",
       " 569: [782],\n",
       " 570: [1108],\n",
       " 571: [170, 890, 1884],\n",
       " 572: [659],\n",
       " 573: [174],\n",
       " 574: [710, 1906],\n",
       " 575: [603, 1015],\n",
       " 576: [266, 780, 1051],\n",
       " 577: [561, 1287],\n",
       " 578: [384, 718, 1138, 1776],\n",
       " 579: [1361],\n",
       " 580: [1034, 1536],\n",
       " 581: [257, 1197],\n",
       " 582: [202, 812],\n",
       " 583: [368, 782],\n",
       " 584: [986, 1677],\n",
       " 585: [394],\n",
       " 586: [1014, 1555],\n",
       " 587: [780, 899, 1591],\n",
       " 588: [180, 379, 1462],\n",
       " 589: [589],\n",
       " 590: [590, 1092],\n",
       " 591: [1625, 1748],\n",
       " 592: [592, 1834],\n",
       " 593: [104, 562, 593],\n",
       " 594: [1666],\n",
       " 595: [330, 364, 784],\n",
       " 596: [313, 1133],\n",
       " 597: [1776],\n",
       " 598: [1497],\n",
       " 599: [504, 531, 613, 1263, 1957],\n",
       " 600: [613, 800],\n",
       " 601: [212, 1992],\n",
       " 602: [217, 1014, 1335],\n",
       " 603: [575, 1428, 1914],\n",
       " 604: [1693],\n",
       " 605: [1375],\n",
       " 606: [390, 1745],\n",
       " 607: [607],\n",
       " 608: [21, 1824],\n",
       " 609: [266],\n",
       " 610: [475, 610],\n",
       " 611: [77, 1073, 1571, 1950],\n",
       " 612: [521],\n",
       " 613: [505, 599, 600, 746],\n",
       " 614: [221, 1182, 1456],\n",
       " 615: [93, 275, 683],\n",
       " 616: [253, 630, 1458],\n",
       " 617: [358],\n",
       " 618: [264, 645, 1184],\n",
       " 619: [252, 270, 1622],\n",
       " 620: [1171, 1725],\n",
       " 621: [1148],\n",
       " 622: [298, 1474],\n",
       " 623: [1486, 1623],\n",
       " 624: [24, 550, 1798],\n",
       " 625: [776, 1536, 1982],\n",
       " 626: [1785],\n",
       " 627: [752],\n",
       " 628: [204, 847],\n",
       " 629: [113, 1731],\n",
       " 630: [616, 1861],\n",
       " 631: [1566],\n",
       " 632: [12],\n",
       " 633: [1051, 1792],\n",
       " 634: [262, 1111, 1126, 1149],\n",
       " 635: [175, 938, 1971],\n",
       " 636: [477],\n",
       " 637: [341],\n",
       " 638: [177, 1704],\n",
       " 639: [1100],\n",
       " 640: [1527],\n",
       " 641: [486, 641],\n",
       " 642: [1192],\n",
       " 643: [427, 529, 1301],\n",
       " 644: [1342],\n",
       " 645: [618],\n",
       " 646: [261, 321],\n",
       " 647: [486],\n",
       " 648: [256, 877, 1981],\n",
       " 649: [904],\n",
       " 650: [1378],\n",
       " 651: [340],\n",
       " 652: [562, 1984],\n",
       " 653: [206, 999],\n",
       " 654: [654],\n",
       " 655: [520, 1394],\n",
       " 656: [459],\n",
       " 657: [522, 875],\n",
       " 658: [1713, 1917],\n",
       " 659: [572, 1241],\n",
       " 660: [258, 1396],\n",
       " 661: [883],\n",
       " 662: [13],\n",
       " 663: [364, 514],\n",
       " 664: [1168, 1945],\n",
       " 665: [1462],\n",
       " 666: [487, 696],\n",
       " 667: [433],\n",
       " 668: [112, 1553],\n",
       " 669: [815, 1394, 1522],\n",
       " 670: [1372],\n",
       " 671: [1929, 1989],\n",
       " 672: [945],\n",
       " 673: [1760],\n",
       " 674: [870, 1409],\n",
       " 675: [565, 1805],\n",
       " 676: [697, 1036],\n",
       " 677: [397, 764],\n",
       " 678: [37],\n",
       " 679: [355, 1201],\n",
       " 680: [139],\n",
       " 681: [456, 854],\n",
       " 682: [412],\n",
       " 683: [615, 1250],\n",
       " 684: [1609],\n",
       " 685: [1011],\n",
       " 686: [188],\n",
       " 687: [323, 687],\n",
       " 688: [1067, 1692],\n",
       " 689: [398, 1079],\n",
       " 690: [1485, 1995],\n",
       " 691: [691],\n",
       " 692: [692],\n",
       " 693: [1398, 1925],\n",
       " 694: [564],\n",
       " 695: [1427],\n",
       " 696: [170, 666, 1992],\n",
       " 697: [676],\n",
       " 698: [459, 749, 1124],\n",
       " 699: [1966],\n",
       " 700: [1682],\n",
       " 701: [1285, 1736],\n",
       " 702: [1401],\n",
       " 703: [703, 1106],\n",
       " 704: [474, 908, 1439],\n",
       " 705: [109, 1083],\n",
       " 706: [706, 1398],\n",
       " 707: [766, 949, 1439],\n",
       " 708: [139, 1600, 1654],\n",
       " 709: [521, 1742],\n",
       " 710: [574],\n",
       " 711: [811],\n",
       " 712: [176],\n",
       " 713: [1512, 1586],\n",
       " 714: [75],\n",
       " 715: [445, 815, 1231],\n",
       " 716: [1659],\n",
       " 717: [830, 1738],\n",
       " 718: [578],\n",
       " 719: [1600],\n",
       " 720: [56, 827],\n",
       " 721: [350, 1157, 1271, 1716],\n",
       " 722: [1225, 1301],\n",
       " 723: [23, 723],\n",
       " 724: [302, 1333],\n",
       " 725: [116, 435, 1651],\n",
       " 726: [858],\n",
       " 727: [308, 557],\n",
       " 728: [1597],\n",
       " 729: [418],\n",
       " 730: [778, 947, 1162, 1253, 1425],\n",
       " 731: [869],\n",
       " 732: [333, 1296],\n",
       " 733: [1276, 1947],\n",
       " 734: [83],\n",
       " 735: [482, 1245],\n",
       " 736: [1241, 1331, 1820],\n",
       " 737: [1816],\n",
       " 738: [533],\n",
       " 739: [219],\n",
       " 740: [169, 964],\n",
       " 741: [741],\n",
       " 742: [1376],\n",
       " 743: [70, 1276],\n",
       " 744: [46],\n",
       " 745: [851],\n",
       " 746: [613, 1094, 1997],\n",
       " 747: [94, 233, 1332],\n",
       " 748: [748],\n",
       " 749: [492, 698],\n",
       " 750: [1973],\n",
       " 751: [148, 391],\n",
       " 752: [200, 505, 627, 1564],\n",
       " 753: [348, 521, 769, 1638],\n",
       " 754: [771],\n",
       " 755: [537],\n",
       " 756: [1031],\n",
       " 757: [338],\n",
       " 758: [509],\n",
       " 759: [1010],\n",
       " 760: [153, 873, 1313, 1864],\n",
       " 761: [327],\n",
       " 762: [12, 53, 267, 1869],\n",
       " 763: [231, 1606],\n",
       " 764: [677, 1117],\n",
       " 765: [822, 864, 1040],\n",
       " 766: [209, 707, 798, 1649],\n",
       " 767: [767, 1445],\n",
       " 768: [1723],\n",
       " 769: [243, 753],\n",
       " 770: [1228],\n",
       " 771: [378, 754],\n",
       " 772: [917],\n",
       " 773: [1565],\n",
       " 774: [522],\n",
       " 775: [270],\n",
       " 776: [133, 625],\n",
       " 777: [164, 462, 879, 1890],\n",
       " 778: [730],\n",
       " 779: [838, 869, 1545],\n",
       " 780: [576, 587, 1531],\n",
       " 781: [826, 1700],\n",
       " 782: [432, 569, 583],\n",
       " 783: [200, 325, 1072],\n",
       " 784: [497, 595, 1343, 1982],\n",
       " 785: [279, 1935],\n",
       " 786: [1603],\n",
       " 787: [834, 1277, 1534],\n",
       " 788: [1478],\n",
       " 789: [789, 1871],\n",
       " 790: [1342, 1464],\n",
       " 791: [553, 1344],\n",
       " 792: [1141, 1746, 1757],\n",
       " 793: [148],\n",
       " 794: [1408, 1867],\n",
       " 795: [795, 1693],\n",
       " 796: [1819],\n",
       " 797: [818, 1960],\n",
       " 798: [766, 1428],\n",
       " 799: [183],\n",
       " 800: [600],\n",
       " 801: [1228],\n",
       " 802: [1644],\n",
       " 803: [153, 806],\n",
       " 804: [40, 118, 130, 1025, 1319, 1977],\n",
       " 805: [805, 1065],\n",
       " 806: [803, 1707],\n",
       " 807: [102, 807, 969],\n",
       " 808: [288],\n",
       " 809: [1734],\n",
       " 810: [210, 1758, 1824],\n",
       " 811: [221, 711],\n",
       " 812: [489, 582],\n",
       " 813: [1447, 1626],\n",
       " 814: [1103, 1514, 1729, 1900],\n",
       " 815: [669, 715],\n",
       " 816: [1636],\n",
       " 817: [817],\n",
       " 818: [250, 797],\n",
       " 819: [916, 1471],\n",
       " 820: [556],\n",
       " 821: [1079, 1521, 1712],\n",
       " 822: [765, 1853],\n",
       " 823: [823],\n",
       " 824: [1533],\n",
       " 825: [166, 841, 1290, 1994],\n",
       " 826: [398, 781, 1548],\n",
       " 827: [275, 720, 827, 1403],\n",
       " 828: [306, 568],\n",
       " 829: [12, 1998],\n",
       " 830: [717, 889, 1047],\n",
       " 831: [1227],\n",
       " 832: [28, 1427, 1576],\n",
       " 833: [1024, 1048, 1974],\n",
       " 834: [787],\n",
       " 835: [1019],\n",
       " 836: [1480, 1589, 1682],\n",
       " 837: [1221],\n",
       " 838: [779],\n",
       " 839: [356, 874],\n",
       " 840: [1925],\n",
       " 841: [825, 927],\n",
       " 842: [6, 1907],\n",
       " 843: [123, 1419, 1661, 1678],\n",
       " 844: [1310, 1557],\n",
       " 845: [887, 1180],\n",
       " 846: [846, 1020],\n",
       " 847: [628, 933],\n",
       " 848: [1949],\n",
       " 849: [849],\n",
       " 850: [850, 965, 1537],\n",
       " 851: [745, 1414, 1541],\n",
       " 852: [923, 1821],\n",
       " 853: [209],\n",
       " 854: [681, 854, 1152],\n",
       " 855: [990],\n",
       " 856: [1686],\n",
       " 857: [1293, 1412, 1983],\n",
       " 858: [726, 1796, 1843],\n",
       " 859: [170],\n",
       " 860: [530],\n",
       " 861: [1562],\n",
       " 862: [179],\n",
       " 863: [1789],\n",
       " 864: [510, 765, 922],\n",
       " 865: [417, 896, 1362],\n",
       " 866: [43],\n",
       " 867: [47],\n",
       " 868: [497, 1230, 1629],\n",
       " 869: [532, 731, 779],\n",
       " 870: [3, 674],\n",
       " 871: [23, 1543],\n",
       " 872: [1976],\n",
       " 873: [760],\n",
       " 874: [839, 1028],\n",
       " 875: [657, 1573],\n",
       " 876: [179, 876, 1703],\n",
       " 877: [648, 1676],\n",
       " 878: [1911],\n",
       " 879: [777],\n",
       " 880: [1001, 1970],\n",
       " 881: [45],\n",
       " 882: [251, 883],\n",
       " 883: [661, 882],\n",
       " 884: [1361],\n",
       " 885: [35],\n",
       " 886: [511, 1057],\n",
       " 887: [845],\n",
       " 888: [888],\n",
       " 889: [458, 830, 1370],\n",
       " 890: [571, 1715],\n",
       " 891: [891],\n",
       " 892: [1383],\n",
       " 893: [1884],\n",
       " 894: [1222],\n",
       " 895: [104],\n",
       " 896: [60, 865, 1575, 1756],\n",
       " 897: [1091],\n",
       " 898: [1805],\n",
       " 899: [587, 1949],\n",
       " 900: [903, 1147],\n",
       " 901: [901, 1648, 1888],\n",
       " 902: [1301, 1433],\n",
       " 903: [900],\n",
       " 904: [1, 649, 1497],\n",
       " 905: [258],\n",
       " 906: [319, 1927],\n",
       " 907: [1561, 1752],\n",
       " 908: [704, 1752],\n",
       " 909: [1587],\n",
       " 910: [1388, 1393],\n",
       " 911: [1713],\n",
       " 912: [1877],\n",
       " 913: [1813],\n",
       " 914: [485, 1081],\n",
       " 915: [119],\n",
       " 916: [444, 819],\n",
       " 917: [772, 1169, 1822],\n",
       " 918: [292, 1795],\n",
       " 919: [260, 366],\n",
       " 920: [1181],\n",
       " 921: [32, 1658],\n",
       " 922: [864, 1725],\n",
       " 923: [1, 852, 1206, 1528],\n",
       " 924: [1344, 1531, 1777],\n",
       " 925: [973],\n",
       " 926: [934, 1535, 1856],\n",
       " 927: [536, 841, 1908],\n",
       " 928: [322, 1297, 1644],\n",
       " 929: [1196, 1650],\n",
       " 930: [188],\n",
       " 931: [88],\n",
       " 932: [498],\n",
       " 933: [847, 1064],\n",
       " 934: [926, 1488],\n",
       " 935: [1918],\n",
       " 936: [36, 1577],\n",
       " 937: [304],\n",
       " 938: [635, 1478, 1505],\n",
       " 939: [1279],\n",
       " 940: [1283],\n",
       " 941: [259, 406, 1458, 1542, 1986],\n",
       " 942: [1357],\n",
       " 943: [332, 1150, 1513],\n",
       " 944: [229, 1727],\n",
       " 945: [566, 672],\n",
       " 946: [499, 1239, 1301],\n",
       " 947: [730],\n",
       " 948: [84],\n",
       " 949: [707],\n",
       " 950: [0, 1856],\n",
       " 951: [1010, 1336],\n",
       " 952: [1461, 1655],\n",
       " 953: [982, 1586],\n",
       " 954: [90, 1001],\n",
       " 955: [978],\n",
       " 956: [289],\n",
       " 957: [1655],\n",
       " 958: [365],\n",
       " 959: [1352, 1423],\n",
       " 960: [163],\n",
       " 961: [1765, 1824],\n",
       " 962: [1878],\n",
       " 963: [222, 306],\n",
       " 964: [263, 740],\n",
       " 965: [850],\n",
       " 966: [227],\n",
       " 967: [408, 1605],\n",
       " 968: [129, 1203],\n",
       " 969: [365, 807],\n",
       " 970: [970],\n",
       " 971: [86, 335],\n",
       " 972: [1723],\n",
       " 973: [94, 925, 1821],\n",
       " 974: [286, 1870],\n",
       " 975: [1736],\n",
       " 976: [976],\n",
       " 977: [1882],\n",
       " 978: [229, 377, 955],\n",
       " 979: [1096, 1526],\n",
       " 980: [235, 980],\n",
       " 981: [1950],\n",
       " 982: [60, 449, 953],\n",
       " 983: [1185],\n",
       " 984: [325],\n",
       " 985: [8, 402],\n",
       " 986: [584, 986, 1160],\n",
       " 987: [249, 1471, 1912],\n",
       " 988: [1844],\n",
       " 989: [192, 489, 1279],\n",
       " 990: [855, 990],\n",
       " 991: [397, 1961],\n",
       " 992: [992, 1921],\n",
       " 993: [993],\n",
       " 994: [994],\n",
       " 995: [131, 995, 1099],\n",
       " 996: [144, 279],\n",
       " 997: [1829],\n",
       " 998: [998],\n",
       " 999: [150, 653],\n",
       " ...}"
      ]
     },
     "execution_count": 57,
     "metadata": {},
     "output_type": "execute_result"
    }
   ],
   "source": [
    "data"
   ]
  },
  {
   "cell_type": "markdown",
   "metadata": {},
   "source": [
    "## Part Two\n",
    "Our twist for part two is that we want to know the total number of unique groups in the graph.  I'll just keep running dfs on every possible node and continually update a master set with all of the group sets generated by traversing each key.  I'm sure there is a better / more efficient way to do this by taking into account what's been seen and not revisiting those keys, but the dumb / brute force way worked fast enough for me, just letting the `seen` set filter out any duplicates."
   ]
  },
  {
   "cell_type": "code",
   "execution_count": 59,
   "metadata": {},
   "outputs": [
    {
     "name": "stdout",
     "output_type": "stream",
     "text": [
      "200\n"
     ]
    }
   ],
   "source": [
    "def dfs(start,successors,cnt=0,visited=set()): # also cnt not incremented bc final stack frame is still 0 when returning up\n",
    "    if start not in visited:\n",
    "        visited.add(start)\n",
    "        for s in successors[start]:\n",
    "            dfs(s,successors,cnt + 1,visited) # had return here - bug, figure out why tomm\n",
    "    return visited\n",
    "\n",
    "seen = set()\n",
    "for k in data:\n",
    "    seen.add(frozenset(dfs(k,data)))\n",
    "print(len(seen))"
   ]
  },
  {
   "cell_type": "markdown",
   "metadata": {},
   "source": [
    "# Day 13\n",
    "given a series of `layer:depth` integer pairs, we interpet the input as a firewall through which we need to move a packet, while avoiding \"scanners\".  A single line of input could be 3:5 meaning the third layer of the firewall has a depth of 5.  At each \"picosecond\" scanners move down one step until they hit the bottom depth, and then they move back up one step until they hit the top, oscillating up and down like an elevator.\n"
   ]
  },
  {
   "cell_type": "markdown",
   "metadata": {},
   "source": [
    "## Part One\n",
    "Given all of the complete firewall, composed of many layer:depth units, we need to find the number of times a packet attempts to *enter* a layer which has a scanner present.  Packets move only along the top of each layer (depth 0)."
   ]
  },
  {
   "cell_type": "code",
   "execution_count": 60,
   "metadata": {},
   "outputs": [
    {
     "data": {
      "text/plain": [
       "1844"
      ]
     },
     "execution_count": 60,
     "metadata": {},
     "output_type": "execute_result"
    }
   ],
   "source": [
    "data = open('day13.txt').read().strip().split('\\n')\n",
    "# data = ['0: 3','1: 2','4: 4','6: 4']\n",
    "firewalls = [(int(d),'fwd',['s'] + list(range(int(r) - 1))) \n",
    "             for (d,r) in [line.split(': ') for line in data]]\n",
    "\n",
    "valid_depths = {d for d,dr,r in firewalls}\n",
    "missing_depths = set(range(max(valid_depths) + 1)) - valid_depths\n",
    "fill_in_missing = [(m,'fwd', ['e']) for m in sorted(missing_depths)]\n",
    "all_together = sorted(fill_in_missing + firewalls,key = lambda x: x[0])\n",
    "\n",
    "def elevator(coll,n,ix,dr):\n",
    "    while n > 0:\n",
    "        if dr == 'fwd':\n",
    "            ix += 1\n",
    "            if ix > len(coll) - 1:\n",
    "                ix -= 2\n",
    "                dr = 'bwd'\n",
    "        else:\n",
    "            ix -= 1\n",
    "            if ix < 0:\n",
    "                ix += 2\n",
    "                dr = 'fwd'\n",
    "        n -= 1\n",
    "    return (ix,dr)\n",
    "\n",
    "def move_scanner(depth_and_range):\n",
    "    d,dr,r = depth_and_range\n",
    "    if 'e' in r: return d,dr,r\n",
    "    loc = r.index('s')\n",
    "    r[loc] = '*'\n",
    "    new_loc,dr = elevator(r,1,loc,dr)\n",
    "    r[new_loc] = 's'\n",
    "    return d,dr,r\n",
    "\n",
    "penalty = []\n",
    "for i in range(len(all_together)):\n",
    "    d,dr,r = all_together[i]\n",
    "    if r[0] == 's':\n",
    "        penalty.append(d * len(r))\n",
    "    all_together = list(map(move_scanner,all_together))\n",
    "\n",
    "sum(penalty)\n"
   ]
  },
  {
   "cell_type": "code",
   "execution_count": 61,
   "metadata": {},
   "outputs": [
    {
     "data": {
      "text/plain": [
       "[(0, 'fwd', ['*', '*', '*', 's']),\n",
       " (1, 'fwd', ['*', 's']),\n",
       " (2, 'bwd', ['*', 's', '*']),\n",
       " (3, 'fwd', ['e']),\n",
       " (4, 'fwd', ['*', '*', '*', 's'])]"
      ]
     },
     "execution_count": 61,
     "metadata": {},
     "output_type": "execute_result"
    }
   ],
   "source": [
    "all_together[0:5]"
   ]
  },
  {
   "cell_type": "markdown",
   "metadata": {},
   "source": [
    "## Part Two (and improved part one)\n",
    "I knew there was a simple way using modulo to do the elevator movements, but it just wasn't coming to me when I first tried the puzzle.  The next morning a coworker hinted at the modulo math required to tell if a scanner was at the top, and once I had that, the puzzle became infinitely simpler.  I'm including the original solution to part one (I could easily extend this for part two - at least I think I could) to keep myself honest, since I had a pretty big hint to arrive at the below."
   ]
  },
  {
   "cell_type": "code",
   "execution_count": 62,
   "metadata": {},
   "outputs": [
    {
     "name": "stdout",
     "output_type": "stream",
     "text": [
      "1844\n",
      "3897604\n"
     ]
    }
   ],
   "source": [
    "data = [list(map(int,re.findall('\\d+',line)))\n",
    "        for line in open('day13.txt').read().strip().split('\\n')]\n",
    "\n",
    "fwalls = {layer:depth for layer,depth in data}\n",
    "fwalls_inc_missing = [(layer, fwalls.get(layer,0)) for layer in range(99)]\n",
    "\n",
    "def is_at_top(i,depth):\n",
    "    return i % ((depth - 1) * 2) == 0\n",
    "\n",
    "part1 = sum(l*d if is_at_top(l,d) else 0 for l,d in fwalls_inc_missing)\n",
    "print(part1)\n",
    "\n",
    "# part 2\n",
    "picosecond = 0\n",
    "safe = False\n",
    "while not safe:\n",
    "    safe = not(any(is_at_top(picosecond + layer,depth) \n",
    "                   for layer,depth in fwalls.items()))\n",
    "    if safe:\n",
    "        print(picosecond)\n",
    "        break\n",
    "    picosecond += 1"
   ]
  },
  {
   "cell_type": "markdown",
   "metadata": {},
   "source": [
    "# Day 14"
   ]
  },
  {
   "cell_type": "markdown",
   "metadata": {},
   "source": [
    "## Part One"
   ]
  },
  {
   "cell_type": "code",
   "execution_count": 132,
   "metadata": {},
   "outputs": [
    {
     "name": "stdout",
     "output_type": "stream",
     "text": [
      "8222\n"
     ]
    }
   ],
   "source": [
    "salt = 'amgozmfv'\n",
    "\n",
    "def hex_to_bin(hex_digits):\n",
    "    return ''.join(map(lambda x: bin(int(x,16))[2:].zfill(4),hex_digits))\n",
    "\n",
    "def process(text,data=list(range(0,256))):\n",
    "    to_ascii = list(map(ord,text)) + [17, 31, 73, 47, 23]\n",
    "    pos = 0\n",
    "    skip = 0\n",
    "    for i in range(64):\n",
    "        for l in to_ascii:\n",
    "            end = pos + l\n",
    "            if end > len(data):\n",
    "                end = end % len(data)\n",
    "                right, left = data[pos:], data[0:end]\n",
    "                all_rev = list(reversed(right+left))\n",
    "                data[pos:] = all_rev[0:len(right)]\n",
    "                data[0:end] = all_rev[len(data[pos:]):]\n",
    "            else:\n",
    "                data = data[0:pos] + list(reversed(data[pos:end])) + data[end:]\n",
    "            pos = pos + skip + l\n",
    "            if pos > len(data):\n",
    "                pos = pos % len(data)\n",
    "            skip += 1\n",
    "    return data\n",
    "\n",
    "def knot_hash(text):\n",
    "    knotted = process(text)\n",
    "    segmented = [knotted[i:i+16] for i in range(0,len(knotted),16)]\n",
    "    xord = [reduce(lambda x, y: x ^ y, segment) for segment in segmented]\n",
    "    to_hex = ''.join([hex(x)[2:].zfill(2) for x in xord])\n",
    "    return to_hex\n",
    "              \n",
    "grid = [hex_to_bin(knot_hash(salt + '-' + str(i))) for i in range(128)]\n",
    "print(len([sq for row in grid for sq in row if sq == '1']))"
   ]
  },
  {
   "cell_type": "code",
   "execution_count": 137,
   "metadata": {},
   "outputs": [
    {
     "name": "stdout",
     "output_type": "stream",
     "text": [
      "1086\n"
     ]
    }
   ],
   "source": [
    "def dfs(start,goal=lambda x: x == float('inf'),successors = lambda x: x):\n",
    "    frontier = [[start]]\n",
    "    seen = set()\n",
    "    while frontier:\n",
    "        path = frontier.pop()\n",
    "        node = path[-1]\n",
    "        if tuple(node) not in seen:\n",
    "            seen.add(tuple(node))\n",
    "            for s in successors(node):\n",
    "                if goal(s):\n",
    "                    return path,len(path)\n",
    "                frontier.append(path + [s])\n",
    "    return seen\n",
    "\n",
    "def neighbors_URDL(grid,coord,is_valid_coord = lambda x: x):\n",
    "    moves = [vector_process(coord,move) for move in [(-1,0),(0,1),(1,0),(0,-1)]]\n",
    "    valid_moves = [tuple(m) for m in moves if is_valid_coord(m) \n",
    "                   and grid[m[0]][m[1]] == '1']\n",
    "    return valid_moves\n",
    "    \n",
    "def is_valid_coord(coord,xmax=128,ymax=128):\n",
    "    x,y = coord\n",
    "    return(0 <= x < xmax) and (0 <= y < ymax) \n",
    "\n",
    "def get_clusters(grid,loc):\n",
    "    return dfs(loc, successors=lambda coord: neighbors_URDL(grid,coord,is_valid_coord))\n",
    "\n",
    "seen = {frozenset()}\n",
    "for i in range(len(grid)):\n",
    "    for j in range(len(grid[i])):\n",
    "        if (i,j) not in frozenset.union(*seen) and grid[i][j] == '1': \n",
    "            seen.add(frozenset(get_clusters(grid,(i,j))))\n",
    "print(len(seen) - 1) # minus one to account for the empty set\n"
   ]
  },
  {
   "cell_type": "markdown",
   "metadata": {},
   "source": [
    "# Day 15"
   ]
  },
  {
   "cell_type": "markdown",
   "metadata": {},
   "source": [
    "## Part One"
   ]
  },
  {
   "cell_type": "code",
   "execution_count": 66,
   "metadata": {},
   "outputs": [
    {
     "name": "stdout",
     "output_type": "stream",
     "text": [
      "313\n"
     ]
    }
   ],
   "source": [
    "A = 699\n",
    "B = 124\n",
    "\n",
    "factor_a = 16807\n",
    "factor_b = 48271\n",
    "divisor = 2147483647\n",
    "\n",
    "def generator(val,factor,multiple):\n",
    "    while True:\n",
    "        val = val * factor % divisor\n",
    "        if val % multiple == 0:\n",
    "            yield val\n",
    "        \n",
    "ga = generator(A,factor_a,4)\n",
    "gb = generator(B,factor_b,8)\n",
    "\n",
    "total = 0\n",
    "for i in range(5000000):\n",
    "    a = bin(next(ga))\n",
    "    b = bin(next(gb))\n",
    "    if a[-16:] == b[-16:]:\n",
    "        total += 1\n",
    "\n",
    "print(total)"
   ]
  },
  {
   "cell_type": "markdown",
   "metadata": {},
   "source": [
    "# Day 16"
   ]
  },
  {
   "cell_type": "markdown",
   "metadata": {},
   "source": [
    "## Part One"
   ]
  },
  {
   "cell_type": "code",
   "execution_count": 139,
   "metadata": {},
   "outputs": [],
   "source": [
    "data = open('day16.txt').read().strip().split(',')\n",
    "programs = 'abcdefghijklmnop'"
   ]
  },
  {
   "cell_type": "code",
   "execution_count": 140,
   "metadata": {},
   "outputs": [
    {
     "name": "stdout",
     "output_type": "stream",
     "text": [
      "['x15/10', 'ph/c', 'x3/14', 's1', 'pf/b', 'x12/0', 'ph/m', 'x14/11', 's4', 'x6/13']\n"
     ]
    }
   ],
   "source": [
    "print(data[0:10])"
   ]
  },
  {
   "cell_type": "code",
   "execution_count": 141,
   "metadata": {},
   "outputs": [
    {
     "data": {
      "text/plain": [
       "'bkgcdefiholnpmja'"
      ]
     },
     "execution_count": 141,
     "metadata": {},
     "output_type": "execute_result"
    }
   ],
   "source": [
    "def spin(sx,programs):\n",
    "    x = int(sx[1:])\n",
    "    return programs[-x:] + programs[0:len(programs)-x]\n",
    "\n",
    "def exchange(xab,programs):\n",
    "    ix_a,ix_b = list(map(int,re.findall('\\d+',xab)))\n",
    "    programs[ix_a], programs[ix_b] = programs[ix_b], programs[ix_a]\n",
    "    return programs\n",
    "\n",
    "def partner(pab,programs):\n",
    "    a,b = pab[1:].split('/')\n",
    "    ix_a, ix_b = programs.index(a), programs.index(b)\n",
    "    programs[ix_a], programs[ix_b] = programs[ix_b], programs[ix_a]\n",
    "    return programs\n",
    "\n",
    "def process(moves,programs):\n",
    "    programs = list(programs)\n",
    "    for m in moves:\n",
    "        dance_move = m[0]\n",
    "        if dance_move == 'x':\n",
    "            programs = exchange(m,programs)\n",
    "        elif dance_move == 's':\n",
    "            programs = spin(m,programs)\n",
    "        elif dance_move == 'p':\n",
    "            programs = partner(m,programs)\n",
    "        else:\n",
    "            raise ValueError('no dance type found that matches!')\n",
    "    return ''.join(programs)\n",
    "\n",
    "process(data,programs)"
   ]
  },
  {
   "cell_type": "markdown",
   "metadata": {},
   "source": [
    "## Part Two\n",
    "Now we do the same thing, but 1 billion times.  Brute force isn't going to work here, so I am going to check to see if there is a discernible pattern in the dance by looking for cycles.  It turns out, for my input, after 60 iterations we are back where we started.  To be more certain I should test that this pattern holds for a few more cycles of 60, but in the interest of time I just assumed it would and proceeded - thinking I'd come back and try again if it didn't hold. \n",
    "\n",
    "Since every 60 dances, we are back at the start, We can just run the dance cycles starting at the beginning, for the remainder of 1 billion divided by 60, or 40 times."
   ]
  },
  {
   "cell_type": "code",
   "execution_count": 142,
   "metadata": {},
   "outputs": [
    {
     "name": "stdout",
     "output_type": "stream",
     "text": [
      "60\n",
      "abcdefghijklmnop\n"
     ]
    }
   ],
   "source": [
    "programs = 'abcdefghijklmnop'\n",
    "seen = set()\n",
    "while programs not in seen:\n",
    "    seen.add(programs)\n",
    "    programs = process(data,programs)\n",
    "\n",
    "print(len(seen))\n",
    "print(programs)"
   ]
  },
  {
   "cell_type": "code",
   "execution_count": 143,
   "metadata": {},
   "outputs": [
    {
     "data": {
      "text/plain": [
       "'knmdfoijcbpghlea'"
      ]
     },
     "execution_count": 143,
     "metadata": {},
     "output_type": "execute_result"
    }
   ],
   "source": [
    "programs = 'abcdefghijklmnop'\n",
    "for x in range (1000000000%60):\n",
    "    programs = process(data,programs)\n",
    "programs"
   ]
  },
  {
   "cell_type": "markdown",
   "metadata": {},
   "source": [
    "# Day 17"
   ]
  },
  {
   "cell_type": "markdown",
   "metadata": {},
   "source": [
    "## Part One"
   ]
  },
  {
   "cell_type": "code",
   "execution_count": 72,
   "metadata": {},
   "outputs": [
    {
     "name": "stdout",
     "output_type": "stream",
     "text": [
      "1971\n"
     ]
    }
   ],
   "source": [
    "steps = 303\n",
    "nums = [0]\n",
    "ix = 0\n",
    "for i in range(1,2018):\n",
    "    ix = (ix + steps) % len(nums) + 1\n",
    "    nums = nums[0:ix] + [i] + nums[ix:]\n",
    "print(nums[ix + 1])"
   ]
  },
  {
   "cell_type": "markdown",
   "metadata": {},
   "source": [
    "## Part Two"
   ]
  },
  {
   "cell_type": "code",
   "execution_count": 73,
   "metadata": {},
   "outputs": [
    {
     "data": {
      "text/plain": [
       "17202899"
      ]
     },
     "execution_count": 73,
     "metadata": {},
     "output_type": "execute_result"
    }
   ],
   "source": [
    "#number after zero will shift to 'i' whenever (i + 3) % len(nums) == 0\n",
    "length = 1\n",
    "ix = 0\n",
    "steps = 303\n",
    "afterzero = None\n",
    "for i in range(1,50000001):\n",
    "    ix = (ix + steps) % length\n",
    "    if ix == 0:\n",
    "        afterzero = i\n",
    "    length += 1\n",
    "    ix += 1\n",
    "afterzero"
   ]
  },
  {
   "cell_type": "markdown",
   "metadata": {},
   "source": [
    "# Day 18"
   ]
  },
  {
   "cell_type": "markdown",
   "metadata": {},
   "source": [
    "## Part One"
   ]
  },
  {
   "cell_type": "code",
   "execution_count": 179,
   "metadata": {},
   "outputs": [
    {
     "data": {
      "text/plain": [
       "2"
      ]
     },
     "execution_count": 179,
     "metadata": {},
     "output_type": "execute_result"
    }
   ],
   "source": [
    "def stream(x,f):\n",
    "    return x,lambda: stream(f(x),f)\n",
    "\n",
    "def take(n,stream):\n",
    "    val, thunk = stream\n",
    "    if n == 0:\n",
    "        return val\n",
    "    else:\n",
    "        return take(n-1,thunk())\n",
    "    \n",
    "take(0,stream(2,lambda x: x**2))"
   ]
  },
  {
   "cell_type": "code",
   "execution_count": 180,
   "metadata": {},
   "outputs": [
    {
     "data": {
      "text/plain": [
       "['set i 31',\n",
       " 'set a 1',\n",
       " 'mul p 17',\n",
       " 'jgz p p',\n",
       " 'mul a 2',\n",
       " 'add i -1',\n",
       " 'jgz i -2',\n",
       " 'add a -1',\n",
       " 'set i 127',\n",
       " 'set p 952',\n",
       " 'mul p 8505',\n",
       " 'mod p a',\n",
       " 'mul p 129749',\n",
       " 'add p 12345',\n",
       " 'mod p a',\n",
       " 'set b p',\n",
       " 'mod b 10000',\n",
       " 'snd b',\n",
       " 'add i -1',\n",
       " 'jgz i -9',\n",
       " 'jgz a 3',\n",
       " 'rcv b',\n",
       " 'jgz b -1',\n",
       " 'set f 0',\n",
       " 'set i 126',\n",
       " 'rcv a',\n",
       " 'rcv b',\n",
       " 'set p a',\n",
       " 'mul p -1',\n",
       " 'add p b',\n",
       " 'jgz p 4',\n",
       " 'snd a',\n",
       " 'set a b',\n",
       " 'jgz 1 3',\n",
       " 'snd b',\n",
       " 'set f 1',\n",
       " 'add i -1',\n",
       " 'jgz i -11',\n",
       " 'snd a',\n",
       " 'jgz f -16',\n",
       " 'jgz a -19']"
      ]
     },
     "execution_count": 180,
     "metadata": {},
     "output_type": "execute_result"
    }
   ],
   "source": [
    "data = open('day18.txt').read().strip().split('\\n')\n",
    "data"
   ]
  },
  {
   "cell_type": "code",
   "execution_count": 287,
   "metadata": {},
   "outputs": [
    {
     "data": {
      "text/plain": [
       "4601"
      ]
     },
     "execution_count": 287,
     "metadata": {},
     "output_type": "execute_result"
    }
   ],
   "source": [
    "sounds = []\n",
    "all_ops =  [(op,reg,val)for op,reg,*val in [instr.split() for instr in data]]\n",
    "registers = {reg:0 for op,reg,val in all_ops if reg.isalpha()}\n",
    "\n",
    "def snd(x,_):\n",
    "    sounds.append(registers[x])\n",
    "def set_to(x,y):\n",
    "    registers[x] = y\n",
    "def add_to(x,y):\n",
    "    registers[x] = registers[x] + y\n",
    "def mul(x,y):\n",
    "    registers[x] = registers[x] * y\n",
    "def mod(x,y):\n",
    "    registers[x] = registers[x] % y\n",
    "def rcv(x,_):\n",
    "    if x != 0:\n",
    "        return sounds[-1],'done'\n",
    "def jgz(x,y):\n",
    "    if int(registers.get(x,x)) > 0:\n",
    "        return y,'not done'\n",
    "\n",
    "get_op = {'snd':snd,\n",
    "          'set':set_to,\n",
    "          'add':add_to,\n",
    "          'mul':mul,\n",
    "          'mod':mod,\n",
    "          'rcv':rcv,\n",
    "          'jgz':jgz}    \n",
    "\n",
    "def interpret(registers):\n",
    "    pos = 0\n",
    "    while 0 <= pos < len(all_ops):\n",
    "        op,reg,val = all_ops[pos]\n",
    "        if val: \n",
    "            val = int(registers.get(val[0],val[0]))\n",
    "        else:\n",
    "            val = None\n",
    "        op = get_op[op]\n",
    "        regval = registers.get(reg,None)\n",
    "        jmp = op(reg,val)\n",
    "        if jmp:\n",
    "            a,maybe_done = jmp\n",
    "            if maybe_done == 'done':\n",
    "                return a\n",
    "            else:\n",
    "                pos += a\n",
    "                continue\n",
    "        pos += 1\n",
    "interpret(registers)    "
   ]
  },
  {
   "cell_type": "code",
   "execution_count": 327,
   "metadata": {},
   "outputs": [
    {
     "name": "stdout",
     "output_type": "stream",
     "text": [
      "6858\n"
     ]
    }
   ],
   "source": [
    "def rcv(X,q,register): register[X] = q.pop(0) if q else register[X]\n",
    "def snd(X,q,register): q.append(int(register.get(X,X)))\n",
    "def set_(X,Y,register): register[X] = Y\n",
    "def add(X,Y,register): register[X] += Y\n",
    "def mul(X,Y,register): register[X] *= Y\n",
    "def mod(X,Y,register): register[X] %= Y\n",
    "def jgz(X,Y,register): return Y if int(register.get(X,X)) > 0 else None\n",
    "\n",
    "all_ops = {'rcv':rcv,'snd':snd,'set':set_,'add':add,'mul':mul,'mod':mod,'jgz':jgz}\n",
    "programs = [inst.split(' ') for inst in [inst for inst in data]]\n",
    "# programs =  [(op,reg,val) for op,reg,*val in [instr.split() for instr in data]]\n",
    "registers0 = {'a':0,'p':0,'i':0,'b':0,'f':0}\n",
    "registers1 = {'a':0,'p':1,'i':0,'b':0,'f':0}\n",
    "qs = {0:[],1:[]}\n",
    "\n",
    "envs = {\n",
    "        0: {\n",
    "            'program':0,\n",
    "            'register':registers0,\n",
    "            'pos':[0],\n",
    "            'q':qs[0],\n",
    "            'otherq':qs[1],\n",
    "            'sent':[0],\n",
    "            'finished':[False]\n",
    "           },\n",
    "\n",
    "        1: {\n",
    "            'program':1,\n",
    "            'register':registers1,\n",
    "            'pos':[0],\n",
    "            'q':qs[1],\n",
    "            'otherq':qs[0],\n",
    "            'sent':[0],\n",
    "            'finished':[False]\n",
    "           }\n",
    "        }\n",
    "           \n",
    "def interpret(program=None,register=None,pos=None,q=None,otherq=None,\n",
    "              sent=None,finished=None):\n",
    "    while 0 <= pos[0] < len(programs):\n",
    "        op,reg,*reg_or_val = programs[pos[0]] # reg is envs[1]['finished'][0]always a reg except for jnz\n",
    "        func = all_ops[op]\n",
    "        if reg_or_val:\n",
    "            reg_or_val = reg_or_val[0]\n",
    "            val = int(register.get(reg_or_val,reg_or_val))\n",
    "            maybe_jump = func(reg,val,register)\n",
    "            if maybe_jump:\n",
    "                pos[0] += maybe_jump\n",
    "                continue\n",
    "        ## if no reg_or_val we know it's either a snd or rcv bc both only take one arg\n",
    "        elif op == 'snd':\n",
    "            func(reg,otherq,register)\n",
    "            sent[0] += 1  \n",
    "        elif op == 'rcv':\n",
    "            if not q:\n",
    "                return 'waiting'\n",
    "            else:\n",
    "                func(reg,q,register)\n",
    "        else:\n",
    "            raise ValueError('no instruction matching {}'.format(op))\n",
    "            \n",
    "        pos[0] += 1\n",
    "    finished[0] = True\n",
    "\n",
    "## each needs it's own q, register, position, and sent_times\n",
    "def run_interpreter():\n",
    "    while not (envs[0]['finished'][0] and envs[1]['finished'][0]):  \n",
    "        while not envs[0]['finished'][0]:\n",
    "            status = interpret(**envs[0])\n",
    "            if status == 'waiting':\n",
    "                break\n",
    "        while not envs[1]['finished'][0]:\n",
    "            status = interpret(**envs[1])\n",
    "            if status == 'waiting':\n",
    "                break\n",
    "        deadlocked = not(envs[0]['q']) and  not(envs[1]['q'])\n",
    "        if deadlocked: return envs[1]['sent'][0] \n",
    "    return envs[1]['sent'][0]\n",
    "print(run_interpreter())\n"
   ]
  },
  {
   "cell_type": "markdown",
   "metadata": {},
   "source": [
    "# Day 19"
   ]
  },
  {
   "cell_type": "markdown",
   "metadata": {},
   "source": [
    "## Part One"
   ]
  },
  {
   "cell_type": "code",
   "execution_count": null,
   "metadata": {
    "collapsed": true
   },
   "outputs": [],
   "source": [
    "data = open('day19.txt').read().strip().split('\\n')\n",
    "data"
   ]
  }
 ],
 "metadata": {
  "kernelspec": {
   "display_name": "Python 3",
   "language": "python",
   "name": "python3"
  },
  "language_info": {
   "codemirror_mode": {
    "name": "ipython",
    "version": 3
   },
   "file_extension": ".py",
   "mimetype": "text/x-python",
   "name": "python",
   "nbconvert_exporter": "python",
   "pygments_lexer": "ipython3",
   "version": "3.6.1"
  }
 },
 "nbformat": 4,
 "nbformat_minor": 2
}
