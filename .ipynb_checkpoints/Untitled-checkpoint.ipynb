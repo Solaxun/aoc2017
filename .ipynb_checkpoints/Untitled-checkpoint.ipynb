{
 "cells": [
  {
   "cell_type": "code",
   "execution_count": 141,
   "metadata": {
    "collapsed": true
   },
   "outputs": [],
   "source": [
    "\n",
    "import itertools\n",
    "import requests\n",
    "import hashlib\n",
    "import os\n",
    "import re"
   ]
  },
  {
   "cell_type": "markdown",
   "metadata": {},
   "source": [
    "# Day One\n",
    "This should be pretty simple... for part 1 all you need to do is compare adjacent items up until the length of the list minus 1 (minus 1 because at the end, or second to last element, we compare to  i + 1).  Since I'm going for time, rather than spend the extra 30 seconds writing the code to handle when the index goes beyond the list, I just eyeballed it and saw the last element was the same as the first, and added it.\n"
   ]
  },
  {
   "cell_type": "code",
   "execution_count": 130,
   "metadata": {
    "collapsed": true
   },
   "outputs": [],
   "source": [
    "data = open('day1.txt').read().strip()\n"
   ]
  },
  {
   "cell_type": "markdown",
   "metadata": {},
   "source": [
    "## part one"
   ]
  },
  {
   "cell_type": "code",
   "execution_count": 136,
   "metadata": {},
   "outputs": [
    {
     "data": {
      "text/plain": [
       "1069"
      ]
     },
     "execution_count": 136,
     "metadata": {},
     "output_type": "execute_result"
    }
   ],
   "source": [
    "sum([int(x) for x,y in (zip(data, data[1:])) if x == y]) + 3 #cheated :)"
   ]
  },
  {
   "cell_type": "markdown",
   "metadata": {},
   "source": [
    "## part two"
   ]
  },
  {
   "cell_type": "code",
   "execution_count": 132,
   "metadata": {
    "collapsed": true
   },
   "outputs": [],
   "source": [
    "size = len(data) // 2"
   ]
  },
  {
   "cell_type": "code",
   "execution_count": 134,
   "metadata": {
    "collapsed": true
   },
   "outputs": [],
   "source": [
    "res = []\n",
    "for i in range(len(data)):\n",
    "    ix = min(i + size,i + size - len(data))\n",
    "    if data[i] == data[ix]:\n",
    "        res.append(int(data[i]))"
   ]
  },
  {
   "cell_type": "code",
   "execution_count": 135,
   "metadata": {},
   "outputs": [
    {
     "data": {
      "text/plain": [
       "1268"
      ]
     },
     "execution_count": 135,
     "metadata": {},
     "output_type": "execute_result"
    }
   ],
   "source": [
    "sum(res)"
   ]
  },
  {
   "cell_type": "markdown",
   "metadata": {},
   "source": [
    "# Day Two\n",
    "Our input for day two is a series of rows containing tab delimited numbers, meant to mimic a spreadsheet layout.  This is straight-forward to parse by simply splitting on newlines to get the rows, and then doing a regex on each row to get numbers out, rather than dealing with the tabs. Once this is done, you still have to convert each text input to an integer in order to perform the arithmetic."
   ]
  },
  {
   "cell_type": "code",
   "execution_count": 218,
   "metadata": {
    "collapsed": true
   },
   "outputs": [],
   "source": [
    "data2 = open('aoc2.txt').read().strip()"
   ]
  },
  {
   "cell_type": "code",
   "execution_count": 219,
   "metadata": {
    "collapsed": true
   },
   "outputs": [],
   "source": [
    "rows = data2.split('\\n')"
   ]
  },
  {
   "cell_type": "markdown",
   "metadata": {},
   "source": [
    "## part one\n",
    "Part one asks us to find the difference of the minimum and maximum of each row, and then sum all of those values to calculate the \"checksum\" which will be our answer.  "
   ]
  },
  {
   "cell_type": "code",
   "execution_count": 220,
   "metadata": {
    "collapsed": true
   },
   "outputs": [],
   "source": [
    "numrows = [list(map(int,re.findall('\\d+',row))) for row in rows]"
   ]
  },
  {
   "cell_type": "code",
   "execution_count": 221,
   "metadata": {},
   "outputs": [
    {
     "data": {
      "text/plain": [
       "37923"
      ]
     },
     "execution_count": 221,
     "metadata": {},
     "output_type": "execute_result"
    }
   ],
   "source": [
    "sum(max(row) - min(row) for row in numrows)"
   ]
  },
  {
   "cell_type": "markdown",
   "metadata": {},
   "source": [
    "## part two\n",
    "Part two requires us to find the only two evenly divisible items in each row, calculate the value of this division, and then sum the results.  Itertools to the rescue.... I'll just get all combinations of size 2 for each row and test divisibility"
   ]
  },
  {
   "cell_type": "code",
   "execution_count": 222,
   "metadata": {},
   "outputs": [
    {
     "data": {
      "text/plain": [
       "263.0"
      ]
     },
     "execution_count": 222,
     "metadata": {},
     "output_type": "execute_result"
    }
   ],
   "source": [
    "sum(max(x,y) / min(x,y) for row in numrows \n",
    "                        for x,y in itertools.combinations(row,2) \n",
    "                        if max(x,y) % min(x,y) == 0)"
   ]
  },
  {
   "cell_type": "code",
   "execution_count": 223,
   "metadata": {},
   "outputs": [
    {
     "data": {
      "text/plain": [
       "263.0"
      ]
     },
     "execution_count": 223,
     "metadata": {},
     "output_type": "execute_result"
    }
   ],
   "source": [
    "divis = []\n",
    "for row in numrows:\n",
    "    for x,y in itertools.combinations(row,2):\n",
    "        smallest,largest  = min(x,y), max(x,y)\n",
    "        if largest % smallest == 0:\n",
    "            divis.append(largest / smallest)\n",
    "sum(divis)\n",
    "            \n",
    "        \n",
    "    "
   ]
  },
  {
   "cell_type": "code",
   "execution_count": 245,
   "metadata": {},
   "outputs": [
    {
     "data": {
      "text/plain": [
       "{('a', 'b'), ('a', 'c'), ('b', 'c')}"
      ]
     },
     "execution_count": 245,
     "metadata": {},
     "output_type": "execute_result"
    }
   ],
   "source": [
    "test = \"abc\"\n",
    "res = set()\n",
    "for i in range(len(test)):\n",
    "    for j in range(i+1,len(test)):\n",
    "        res.add((test[i],test[j]))\n",
    "res"
   ]
  },
  {
   "cell_type": "markdown",
   "metadata": {},
   "source": [
    "# Day 3 \n",
    "The minute I read this puzzle I may have mumbled a few choice words to myself.  I've seen something similar before on project euler and punted on it, because I'm not particularly great at the more \"mathy\" or number theory-esque problem types.  But, since this is Advent of Code, and I'm fully committed to at least doing my very best to solve all 25 days, I'm gonna have to buckle down and try to figure it out."
   ]
  },
  {
   "cell_type": "markdown",
   "metadata": {},
   "source": [
    "## Part One\n",
    "This is my WIP for part one, I havent even gotten to part two.  Day four has come and gone and was fortunately way easiser. I'm still mulling this over and trying to find a solution without looking at others because I feel I'm getting close since I've found the recurrence relation, I just need to figure out how to use that to calculate the distance to the target."
   ]
  },
  {
   "cell_type": "code",
   "execution_count": 352,
   "metadata": {
    "collapsed": true
   },
   "outputs": [],
   "source": [
    "import math\n",
    "target = 265149\n",
    "grid_dims = [math.ceil(math.sqrt(start))] * 2\n",
    "center = [grid_dims[0] // 2] * 2"
   ]
  },
  {
   "cell_type": "code",
   "execution_count": 353,
   "metadata": {},
   "outputs": [],
   "source": [
    "rows, cols = grid_dims\n",
    "grid = [[0 for c in range(cols)] for r in range(rows)]\n",
    "grid[center[0]][center[1]] = 1"
   ]
  },
  {
   "cell_type": "code",
   "execution_count": 354,
   "metadata": {},
   "outputs": [],
   "source": [
    "diags = [3,9,7,5]\n",
    "lr =    [6,2,4,8]  \n",
    "\n",
    "def gen_spiral(n,target = target):\n",
    "    n = n\n",
    "    d = n - 1\n",
    "    steps = 1\n",
    "    nums = [n]\n",
    "    while n < target:\n",
    "        d += 8\n",
    "        n += d\n",
    "        steps += 1\n",
    "        nums.append(n)\n",
    "    return nums\n",
    "    \n",
    "for d in diags:\n",
    "    spirals = gen_spiral(d)\n",
    "    if target in spirals:\n",
    "        print(spirals.index(target) * 2)\n",
    "        break\n",
    "for x in lrud:\n",
    "    spirals = gen_spiral(x)\n",
    "    if target in spirals:\n",
    "        print(spirals.index(target))\n",
    "        break\n",
    "            \n"
   ]
  },
  {
   "cell_type": "code",
   "execution_count": 351,
   "metadata": {},
   "outputs": [
    {
     "data": {
      "text/plain": [
       "[6,\n",
       " 19,\n",
       " 40,\n",
       " 69,\n",
       " 106,\n",
       " 151,\n",
       " 204,\n",
       " 265,\n",
       " 334,\n",
       " 411,\n",
       " 496,\n",
       " 589,\n",
       " 690,\n",
       " 799,\n",
       " 916,\n",
       " 1041,\n",
       " 1174,\n",
       " 1315,\n",
       " 1464,\n",
       " 1621,\n",
       " 1786,\n",
       " 1959,\n",
       " 2140,\n",
       " 2329,\n",
       " 2526,\n",
       " 2731,\n",
       " 2944,\n",
       " 3165,\n",
       " 3394,\n",
       " 3631,\n",
       " 3876,\n",
       " 4129,\n",
       " 4390,\n",
       " 4659,\n",
       " 4936,\n",
       " 5221,\n",
       " 5514,\n",
       " 5815,\n",
       " 6124,\n",
       " 6441,\n",
       " 6766,\n",
       " 7099,\n",
       " 7440,\n",
       " 7789,\n",
       " 8146,\n",
       " 8511,\n",
       " 8884,\n",
       " 9265,\n",
       " 9654,\n",
       " 10051,\n",
       " 10456,\n",
       " 10869,\n",
       " 11290,\n",
       " 11719,\n",
       " 12156,\n",
       " 12601,\n",
       " 13054,\n",
       " 13515,\n",
       " 13984,\n",
       " 14461,\n",
       " 14946,\n",
       " 15439,\n",
       " 15940,\n",
       " 16449,\n",
       " 16966,\n",
       " 17491,\n",
       " 18024,\n",
       " 18565,\n",
       " 19114,\n",
       " 19671,\n",
       " 20236,\n",
       " 20809,\n",
       " 21390,\n",
       " 21979,\n",
       " 22576,\n",
       " 23181,\n",
       " 23794,\n",
       " 24415,\n",
       " 25044,\n",
       " 25681,\n",
       " 26326,\n",
       " 26979,\n",
       " 27640,\n",
       " 28309,\n",
       " 28986,\n",
       " 29671,\n",
       " 30364,\n",
       " 31065,\n",
       " 31774,\n",
       " 32491,\n",
       " 33216,\n",
       " 33949,\n",
       " 34690,\n",
       " 35439,\n",
       " 36196,\n",
       " 36961,\n",
       " 37734,\n",
       " 38515,\n",
       " 39304,\n",
       " 40101,\n",
       " 40906,\n",
       " 41719,\n",
       " 42540,\n",
       " 43369,\n",
       " 44206,\n",
       " 45051,\n",
       " 45904,\n",
       " 46765,\n",
       " 47634,\n",
       " 48511,\n",
       " 49396,\n",
       " 50289,\n",
       " 51190,\n",
       " 52099,\n",
       " 53016,\n",
       " 53941,\n",
       " 54874,\n",
       " 55815,\n",
       " 56764,\n",
       " 57721,\n",
       " 58686,\n",
       " 59659,\n",
       " 60640,\n",
       " 61629,\n",
       " 62626,\n",
       " 63631,\n",
       " 64644,\n",
       " 65665,\n",
       " 66694,\n",
       " 67731,\n",
       " 68776,\n",
       " 69829,\n",
       " 70890,\n",
       " 71959,\n",
       " 73036,\n",
       " 74121,\n",
       " 75214,\n",
       " 76315,\n",
       " 77424,\n",
       " 78541,\n",
       " 79666,\n",
       " 80799,\n",
       " 81940,\n",
       " 83089,\n",
       " 84246,\n",
       " 85411,\n",
       " 86584,\n",
       " 87765,\n",
       " 88954,\n",
       " 90151,\n",
       " 91356,\n",
       " 92569,\n",
       " 93790,\n",
       " 95019,\n",
       " 96256,\n",
       " 97501,\n",
       " 98754,\n",
       " 100015,\n",
       " 101284,\n",
       " 102561,\n",
       " 103846,\n",
       " 105139,\n",
       " 106440,\n",
       " 107749,\n",
       " 109066,\n",
       " 110391,\n",
       " 111724,\n",
       " 113065,\n",
       " 114414,\n",
       " 115771,\n",
       " 117136,\n",
       " 118509,\n",
       " 119890,\n",
       " 121279,\n",
       " 122676,\n",
       " 124081,\n",
       " 125494,\n",
       " 126915,\n",
       " 128344,\n",
       " 129781,\n",
       " 131226,\n",
       " 132679,\n",
       " 134140,\n",
       " 135609,\n",
       " 137086,\n",
       " 138571,\n",
       " 140064,\n",
       " 141565,\n",
       " 143074,\n",
       " 144591,\n",
       " 146116,\n",
       " 147649,\n",
       " 149190,\n",
       " 150739,\n",
       " 152296,\n",
       " 153861,\n",
       " 155434,\n",
       " 157015,\n",
       " 158604,\n",
       " 160201,\n",
       " 161806,\n",
       " 163419,\n",
       " 165040,\n",
       " 166669,\n",
       " 168306,\n",
       " 169951,\n",
       " 171604,\n",
       " 173265,\n",
       " 174934,\n",
       " 176611,\n",
       " 178296,\n",
       " 179989,\n",
       " 181690,\n",
       " 183399,\n",
       " 185116,\n",
       " 186841,\n",
       " 188574,\n",
       " 190315,\n",
       " 192064,\n",
       " 193821,\n",
       " 195586,\n",
       " 197359,\n",
       " 199140,\n",
       " 200929,\n",
       " 202726,\n",
       " 204531,\n",
       " 206344,\n",
       " 208165,\n",
       " 209994,\n",
       " 211831,\n",
       " 213676,\n",
       " 215529,\n",
       " 217390,\n",
       " 219259,\n",
       " 221136,\n",
       " 223021,\n",
       " 224914,\n",
       " 226815,\n",
       " 228724,\n",
       " 230641,\n",
       " 232566,\n",
       " 234499,\n",
       " 236440,\n",
       " 238389,\n",
       " 240346,\n",
       " 242311,\n",
       " 244284,\n",
       " 246265,\n",
       " 248254,\n",
       " 250251,\n",
       " 252256,\n",
       " 254269,\n",
       " 256290,\n",
       " 258319,\n",
       " 260356,\n",
       " 262401,\n",
       " 264454,\n",
       " 266515]"
      ]
     },
     "execution_count": 351,
     "metadata": {},
     "output_type": "execute_result"
    }
   ],
   "source": [
    "gen_spiral(6)"
   ]
  },
  {
   "cell_type": "code",
   "execution_count": 509,
   "metadata": {},
   "outputs": [
    {
     "data": {
      "text/plain": [
       "[24,\n",
       " 47,\n",
       " 78,\n",
       " 117,\n",
       " 164,\n",
       " 219,\n",
       " 282,\n",
       " 353,\n",
       " 432,\n",
       " 519,\n",
       " 614,\n",
       " 717,\n",
       " 828,\n",
       " 947,\n",
       " 1074,\n",
       " 1209,\n",
       " 1352,\n",
       " 1503,\n",
       " 1662,\n",
       " 1829,\n",
       " 2004,\n",
       " 2187,\n",
       " 2378,\n",
       " 2577,\n",
       " 2784,\n",
       " 2999,\n",
       " 3222,\n",
       " 3453,\n",
       " 3692,\n",
       " 3939,\n",
       " 4194,\n",
       " 4457,\n",
       " 4728,\n",
       " 5007,\n",
       " 5294,\n",
       " 5589,\n",
       " 5892,\n",
       " 6203,\n",
       " 6522,\n",
       " 6849,\n",
       " 7184,\n",
       " 7527,\n",
       " 7878,\n",
       " 8237,\n",
       " 8604,\n",
       " 8979,\n",
       " 9362,\n",
       " 9753,\n",
       " 10152,\n",
       " 10559,\n",
       " 10974,\n",
       " 11397,\n",
       " 11828,\n",
       " 12267,\n",
       " 12714,\n",
       " 13169,\n",
       " 13632,\n",
       " 14103,\n",
       " 14582,\n",
       " 15069,\n",
       " 15564,\n",
       " 16067,\n",
       " 16578,\n",
       " 17097,\n",
       " 17624,\n",
       " 18159,\n",
       " 18702,\n",
       " 19253,\n",
       " 19812,\n",
       " 20379,\n",
       " 20954,\n",
       " 21537,\n",
       " 22128,\n",
       " 22727,\n",
       " 23334,\n",
       " 23949,\n",
       " 24572,\n",
       " 25203,\n",
       " 25842,\n",
       " 26489,\n",
       " 27144,\n",
       " 27807,\n",
       " 28478,\n",
       " 29157,\n",
       " 29844,\n",
       " 30539,\n",
       " 31242,\n",
       " 31953,\n",
       " 32672,\n",
       " 33399,\n",
       " 34134,\n",
       " 34877,\n",
       " 35628,\n",
       " 36387,\n",
       " 37154,\n",
       " 37929,\n",
       " 38712,\n",
       " 39503,\n",
       " 40302,\n",
       " 41109,\n",
       " 41924,\n",
       " 42747,\n",
       " 43578,\n",
       " 44417,\n",
       " 45264,\n",
       " 46119,\n",
       " 46982,\n",
       " 47853,\n",
       " 48732,\n",
       " 49619,\n",
       " 50514,\n",
       " 51417,\n",
       " 52328,\n",
       " 53247,\n",
       " 54174,\n",
       " 55109,\n",
       " 56052,\n",
       " 57003,\n",
       " 57962,\n",
       " 58929,\n",
       " 59904,\n",
       " 60887,\n",
       " 61878,\n",
       " 62877,\n",
       " 63884,\n",
       " 64899,\n",
       " 65922,\n",
       " 66953,\n",
       " 67992,\n",
       " 69039,\n",
       " 70094,\n",
       " 71157,\n",
       " 72228,\n",
       " 73307,\n",
       " 74394,\n",
       " 75489,\n",
       " 76592,\n",
       " 77703,\n",
       " 78822,\n",
       " 79949,\n",
       " 81084,\n",
       " 82227,\n",
       " 83378,\n",
       " 84537,\n",
       " 85704,\n",
       " 86879,\n",
       " 88062,\n",
       " 89253,\n",
       " 90452,\n",
       " 91659,\n",
       " 92874,\n",
       " 94097,\n",
       " 95328,\n",
       " 96567,\n",
       " 97814,\n",
       " 99069,\n",
       " 100332,\n",
       " 101603,\n",
       " 102882,\n",
       " 104169,\n",
       " 105464,\n",
       " 106767,\n",
       " 108078,\n",
       " 109397,\n",
       " 110724,\n",
       " 112059,\n",
       " 113402,\n",
       " 114753,\n",
       " 116112,\n",
       " 117479,\n",
       " 118854,\n",
       " 120237,\n",
       " 121628,\n",
       " 123027,\n",
       " 124434,\n",
       " 125849,\n",
       " 127272,\n",
       " 128703,\n",
       " 130142,\n",
       " 131589,\n",
       " 133044,\n",
       " 134507,\n",
       " 135978,\n",
       " 137457,\n",
       " 138944,\n",
       " 140439,\n",
       " 141942,\n",
       " 143453,\n",
       " 144972,\n",
       " 146499,\n",
       " 148034,\n",
       " 149577,\n",
       " 151128,\n",
       " 152687,\n",
       " 154254,\n",
       " 155829,\n",
       " 157412,\n",
       " 159003,\n",
       " 160602,\n",
       " 162209,\n",
       " 163824,\n",
       " 165447,\n",
       " 167078,\n",
       " 168717,\n",
       " 170364,\n",
       " 172019,\n",
       " 173682,\n",
       " 175353,\n",
       " 177032,\n",
       " 178719,\n",
       " 180414,\n",
       " 182117,\n",
       " 183828,\n",
       " 185547,\n",
       " 187274,\n",
       " 189009,\n",
       " 190752,\n",
       " 192503,\n",
       " 194262,\n",
       " 196029,\n",
       " 197804,\n",
       " 199587,\n",
       " 201378,\n",
       " 203177,\n",
       " 204984,\n",
       " 206799,\n",
       " 208622,\n",
       " 210453,\n",
       " 212292,\n",
       " 214139,\n",
       " 215994,\n",
       " 217857,\n",
       " 219728,\n",
       " 221607,\n",
       " 223494,\n",
       " 225389,\n",
       " 227292,\n",
       " 229203,\n",
       " 231122,\n",
       " 233049,\n",
       " 234984,\n",
       " 236927,\n",
       " 238878,\n",
       " 240837,\n",
       " 242804,\n",
       " 244779,\n",
       " 246762,\n",
       " 248753,\n",
       " 250752,\n",
       " 252759,\n",
       " 254774,\n",
       " 256797,\n",
       " 258828,\n",
       " 260867,\n",
       " 262914,\n",
       " 264969]"
      ]
     },
     "execution_count": 509,
     "metadata": {},
     "output_type": "execute_result"
    }
   ],
   "source": [
    "def gen_spiral(n,prevn):\n",
    "    yield n\n",
    "    d = n - prevn + 8\n",
    "    n += d\n",
    "    if n < target: yield from gen_spiral(n,n-d)\n",
    "\n",
    "from itertools import islice\n",
    "\n",
    "list(gen_spiral(24,9))"
   ]
  },
  {
   "cell_type": "code",
   "execution_count": 500,
   "metadata": {
    "collapsed": true
   },
   "outputs": [],
   "source": [
    "def spiral(n):\n",
    "    return 1 if n <= 0 else 2 * spiral(n-1) - spiral(n-2) + 8\n"
   ]
  },
  {
   "cell_type": "code",
   "execution_count": 507,
   "metadata": {},
   "outputs": [
    {
     "data": {
      "text/plain": [
       "[1, 9, 25, 49, 81, 121, 169, 225, 289, 361]"
      ]
     },
     "execution_count": 507,
     "metadata": {},
     "output_type": "execute_result"
    }
   ],
   "source": [
    "list(map(spiral,range(0,10)))"
   ]
  },
  {
   "cell_type": "markdown",
   "metadata": {},
   "source": [
    "# Day 4\n",
    "Here the input is a colleciton of strings delimited by newlines.  Within each string, or \"phrase\", we need to see if there are any duplicates and filter those out, and then count the remaining \"phrases\"."
   ]
  },
  {
   "cell_type": "markdown",
   "metadata": {},
   "source": [
    "## Part One"
   ]
  },
  {
   "cell_type": "code",
   "execution_count": 491,
   "metadata": {},
   "outputs": [],
   "source": [
    "data = open('day4.txt').read().strip()\n",
    "words = data.split('\\n')"
   ]
  },
  {
   "cell_type": "code",
   "execution_count": 492,
   "metadata": {},
   "outputs": [
    {
     "name": "stdout",
     "output_type": "stream",
     "text": [
      "325\n"
     ]
    }
   ],
   "source": [
    "valid = [phrase for phrase in words if len(set(phrase.split())) == len(phrase.split())]\n",
    "print(len(valid))"
   ]
  },
  {
   "cell_type": "markdown",
   "metadata": {},
   "source": [
    "## Part Two"
   ]
  },
  {
   "cell_type": "code",
   "execution_count": 493,
   "metadata": {},
   "outputs": [],
   "source": [
    "def anagrams(word):\n",
    "    return {''.join(a) for a in (itertools.permutations(word))}\n"
   ]
  },
  {
   "cell_type": "code",
   "execution_count": 494,
   "metadata": {},
   "outputs": [],
   "source": [
    "def anagram_found(text):\n",
    "    words = text.split()\n",
    "    for i in range(len(words) - 1):\n",
    "        for a in anagrams(words[i]):\n",
    "            if a in words[i+1:]:\n",
    "                return True\n",
    "    return False\n",
    "            "
   ]
  },
  {
   "cell_type": "code",
   "execution_count": 495,
   "metadata": {},
   "outputs": [],
   "source": [
    "assert(not(anagram_found('abcde fghij')))\n",
    "assert(anagram_found('abcde xyz ecdab'))\n",
    "assert(not(anagram_found('a ab abc abd abf abj')))\n",
    "assert(not(anagram_found('iiii oiii ooii oooi oooo')))\n",
    "assert(anagram_found('oiii ioii iioi iiio'))"
   ]
  },
  {
   "cell_type": "code",
   "execution_count": 497,
   "metadata": {},
   "outputs": [
    {
     "data": {
      "text/plain": [
       "119"
      ]
     },
     "execution_count": 497,
     "metadata": {},
     "output_type": "execute_result"
    }
   ],
   "source": [
    "phrases = [phrase for phrase in words if not(anagram_found(phrase))]\n",
    "len(phrases)"
   ]
  },
  {
   "cell_type": "code",
   "execution_count": 498,
   "metadata": {},
   "outputs": [
    {
     "data": {
      "text/plain": [
       "['ojufqke gpd olzirc jfao cjfh rcivvw pqqpudp',\n",
       " 'wchrl pzibt nvcae wceb',\n",
       " 'rdwytj kxuyet bqnzlv nyntjan dyrpsn zhi kbxlj ivo',\n",
       " 'qwx ubca dxudny oxagv wqrv lhzsl qmsgv dxs awbquc akelgma',\n",
       " 'rrdlfpk ohoszz qiznasf awchv qnvse']"
      ]
     },
     "execution_count": 498,
     "metadata": {},
     "output_type": "execute_result"
    }
   ],
   "source": [
    "phrases[0:5]"
   ]
  },
  {
   "cell_type": "code",
   "execution_count": null,
   "metadata": {
    "collapsed": true
   },
   "outputs": [],
   "source": []
  }
 ],
 "metadata": {
  "kernelspec": {
   "display_name": "Python 3",
   "language": "python",
   "name": "python3"
  },
  "language_info": {
   "codemirror_mode": {
    "name": "ipython",
    "version": 3
   },
   "file_extension": ".py",
   "mimetype": "text/x-python",
   "name": "python",
   "nbconvert_exporter": "python",
   "pygments_lexer": "ipython3",
   "version": "3.6.1"
  }
 },
 "nbformat": 4,
 "nbformat_minor": 2
}
