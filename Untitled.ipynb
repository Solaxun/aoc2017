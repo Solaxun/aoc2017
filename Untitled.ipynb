{
 "cells": [
  {
   "cell_type": "code",
   "execution_count": 1,
   "metadata": {
    "collapsed": true
   },
   "outputs": [],
   "source": [
    "import itertools\n",
    "import requests\n",
    "import hashlib\n",
    "import os\n",
    "import re"
   ]
  },
  {
   "cell_type": "markdown",
   "metadata": {},
   "source": [
    "# Day One\n",
    "This should be pretty simple... for part 1 all you need to do is compare adjacent items up until the length of the list minus 1 (minus 1 because at the end, or second to last element, we compare to  i + 1).  Since I'm going for time, rather than spend the extra 30 seconds writing the code to handle when the index goes beyond the list, I just eyeballed it and saw the last element was the same as the first, and added it.\n"
   ]
  },
  {
   "cell_type": "code",
   "execution_count": 2,
   "metadata": {
    "collapsed": true
   },
   "outputs": [],
   "source": [
    "data = open('day1.txt').read().strip()\n"
   ]
  },
  {
   "cell_type": "markdown",
   "metadata": {},
   "source": [
    "## part one"
   ]
  },
  {
   "cell_type": "code",
   "execution_count": 3,
   "metadata": {},
   "outputs": [
    {
     "data": {
      "text/plain": [
       "1069"
      ]
     },
     "execution_count": 3,
     "metadata": {},
     "output_type": "execute_result"
    }
   ],
   "source": [
    "sum([int(x) for x,y in (zip(data, data[1:])) if x == y]) + 3 #cheated :)"
   ]
  },
  {
   "cell_type": "markdown",
   "metadata": {},
   "source": [
    "## part two"
   ]
  },
  {
   "cell_type": "code",
   "execution_count": 4,
   "metadata": {
    "collapsed": true
   },
   "outputs": [],
   "source": [
    "size = len(data) // 2"
   ]
  },
  {
   "cell_type": "code",
   "execution_count": 5,
   "metadata": {
    "collapsed": true
   },
   "outputs": [],
   "source": [
    "res = []\n",
    "for i in range(len(data)):\n",
    "    ix = min(i + size,i + size - len(data))\n",
    "    if data[i] == data[ix]:\n",
    "        res.append(int(data[i]))"
   ]
  },
  {
   "cell_type": "code",
   "execution_count": 6,
   "metadata": {},
   "outputs": [
    {
     "data": {
      "text/plain": [
       "1268"
      ]
     },
     "execution_count": 6,
     "metadata": {},
     "output_type": "execute_result"
    }
   ],
   "source": [
    "sum(res)"
   ]
  },
  {
   "cell_type": "markdown",
   "metadata": {},
   "source": [
    "# Day Two\n",
    "Our input for day two is a series of rows containing tab delimited numbers, meant to mimic a spreadsheet layout.  This is straight-forward to parse by simply splitting on newlines to get the rows, and then doing a regex on each row to get numbers out, rather than dealing with the tabs. Once this is done, you still have to convert each text input to an integer in order to perform the arithmetic."
   ]
  },
  {
   "cell_type": "code",
   "execution_count": 7,
   "metadata": {
    "collapsed": true
   },
   "outputs": [],
   "source": [
    "data2 = open('aoc2.txt').read().strip()"
   ]
  },
  {
   "cell_type": "code",
   "execution_count": 8,
   "metadata": {
    "collapsed": true
   },
   "outputs": [],
   "source": [
    "rows = data2.split('\\n')"
   ]
  },
  {
   "cell_type": "markdown",
   "metadata": {},
   "source": [
    "## part one\n",
    "Part one asks us to find the difference of the minimum and maximum of each row, and then sum all of those values to calculate the \"checksum\" which will be our answer.  "
   ]
  },
  {
   "cell_type": "code",
   "execution_count": 9,
   "metadata": {
    "collapsed": true
   },
   "outputs": [],
   "source": [
    "numrows = [list(map(int,re.findall('\\d+',row))) for row in rows]"
   ]
  },
  {
   "cell_type": "code",
   "execution_count": 10,
   "metadata": {},
   "outputs": [
    {
     "data": {
      "text/plain": [
       "37923"
      ]
     },
     "execution_count": 10,
     "metadata": {},
     "output_type": "execute_result"
    }
   ],
   "source": [
    "sum(max(row) - min(row) for row in numrows)"
   ]
  },
  {
   "cell_type": "markdown",
   "metadata": {},
   "source": [
    "## part two\n",
    "Part two requires us to find the only two evenly divisible items in each row, calculate the value of this division, and then sum the results.  Itertools to the rescue.... I'll just get all combinations of size 2 for each row and test divisibility"
   ]
  },
  {
   "cell_type": "code",
   "execution_count": 11,
   "metadata": {},
   "outputs": [
    {
     "data": {
      "text/plain": [
       "263.0"
      ]
     },
     "execution_count": 11,
     "metadata": {},
     "output_type": "execute_result"
    }
   ],
   "source": [
    "sum(max(x,y) / min(x,y) for row in numrows \n",
    "                        for x,y in itertools.combinations(row,2) \n",
    "                        if max(x,y) % min(x,y) == 0)"
   ]
  },
  {
   "cell_type": "code",
   "execution_count": 12,
   "metadata": {},
   "outputs": [
    {
     "data": {
      "text/plain": [
       "263.0"
      ]
     },
     "execution_count": 12,
     "metadata": {},
     "output_type": "execute_result"
    }
   ],
   "source": [
    "divis = []\n",
    "for row in numrows:\n",
    "    for x,y in itertools.combinations(row,2):\n",
    "        smallest,largest  = min(x,y), max(x,y)\n",
    "        if largest % smallest == 0:\n",
    "            divis.append(largest / smallest)\n",
    "sum(divis)\n",
    "            \n",
    "        \n",
    "    "
   ]
  },
  {
   "cell_type": "code",
   "execution_count": 13,
   "metadata": {},
   "outputs": [
    {
     "data": {
      "text/plain": [
       "{('a', 'b'), ('a', 'c'), ('b', 'c')}"
      ]
     },
     "execution_count": 13,
     "metadata": {},
     "output_type": "execute_result"
    }
   ],
   "source": [
    "test = \"abc\"\n",
    "res = set()\n",
    "for i in range(len(test)):\n",
    "    for j in range(i+1,len(test)):\n",
    "        res.add((test[i],test[j]))\n",
    "res"
   ]
  },
  {
   "cell_type": "markdown",
   "metadata": {},
   "source": [
    "# Day 3 \n",
    "The minute I read this puzzle I may have mumbled a few choice words to myself.  I've seen something similar before on project euler and punted on it, because I'm not particularly great at the more \"mathy\" or number theory-esque problem types.  But, since this is Advent of Code, and I'm fully committed to at least doing my very best to solve all 25 days, I'm gonna have to buckle down and try to figure it out."
   ]
  },
  {
   "cell_type": "markdown",
   "metadata": {},
   "source": [
    "## Part One\n",
    "This is my WIP for part one, I havent even gotten to part two.  Day four has come and gone and was fortunately way easiser. I'm still mulling this over and trying to find a solution without looking at others because I feel I'm getting close since I've found the recurrence relation, I just need to figure out how to use that to calculate the distance to the target.\n",
    "\n",
    "<strong>UPDATE</strong>: After basically an entire day of kicking around ideas and ironing out some bugs, I got a working solution for part 1, a bit before day 5 was released.  The code is most likely overly complicated which tends to be the case when I don't have a clear idea how to solve a problem and I'm just iteratively building on ideas until I get to a solution.  Below the solutions to part one and two are some properties I found which I had originally hoped to use to solve part one (a recurrence relation) but in the end couldn't figure out how to get a solution using this approach.\n",
    "\n",
    "I was a bit nervous on what part two was going to be like since most people seemed to think that was much more difficult than the first part, but it turned out to be fairly straight-foward to extend my part one code to solve part two.  I guess I got lucky in the way I implemented part one - my guess is alot of people found a nice analytical solution to part one and then had to scrap and start from nothing for part two.  My lack of math skills saved me from the same folly since I basically had constructed the grid already in part one, which made part two much simpler."
   ]
  },
  {
   "cell_type": "code",
   "execution_count": 135,
   "metadata": {},
   "outputs": [
    {
     "name": "stdout",
     "output_type": "stream",
     "text": [
      "438\n"
     ]
    }
   ],
   "source": [
    "import math\n",
    "\n",
    "loc = [0,0]\n",
    "target = 265149\n",
    "MOVES = [[0,1],[-1,0],[0,-2],[2,0],[0,2]]\n",
    "INCREMENTS = [[0,0],[-2,0],[0,-2],[2,0],[0,2]]\n",
    "moves_so_far = 1\n",
    "\n",
    "def vector_process(v1,v2,func=lambda x,y: x+y):\n",
    "    return [func(a,b) for a,b in zip(v1,v2)]\n",
    "\n",
    "def move(loc,move,moves_so_far):\n",
    "    new_loc = vector_process(loc,move)\n",
    "    moves_so_far += sum([abs(num) for num in move])\n",
    "    return new_loc,moves_so_far\n",
    "\n",
    "def manhattan_distance(c1,c2):\n",
    "    return sum(vector_process(c1,c2,func=lambda x,y: abs(x-y)))\n",
    "\n",
    "def cumulative_move_steps(move):\n",
    "    x,y = move \n",
    "    moves = []\n",
    "    if x < 0:\n",
    "        for i in range(-1,x-1,-1):\n",
    "            moves.append([-1,y])\n",
    "    elif x > 0:\n",
    "        for i in range(1,x+1):\n",
    "            moves.append([1,y])\n",
    "    elif y < 0:\n",
    "        for i in range(-1,y-1,-1):\n",
    "            moves.append([x,-1])\n",
    "    elif y > 0:\n",
    "        for i in range(1,y+1):\n",
    "            moves.append([x,1])\n",
    "    return moves\n",
    "\n",
    "def part1():\n",
    "    global MOVES,loc,moves_so_far\n",
    "    while True:\n",
    "        for m in MOVES:\n",
    "            for c in cumulative_move_steps(m):\n",
    "                loc,moves_so_far = move(loc,c,moves_so_far)\n",
    "                if moves_so_far >= target:\n",
    "                    return manhattan_distance(loc,[0,0])\n",
    "        MOVES =  [vector_process(m[0],m[1]) \n",
    "                  for m in zip(MOVES,INCREMENTS)]\n",
    "\n",
    "\n",
    "def make_grid(row,col):\n",
    "    return [[0 for i in range(col)] for j in range(row)]\n",
    "print(part1())\n",
    "\n"
   ]
  },
  {
   "cell_type": "code",
   "execution_count": 136,
   "metadata": {},
   "outputs": [
    {
     "name": "stdout",
     "output_type": "stream",
     "text": [
      "266330\n"
     ]
    }
   ],
   "source": [
    "def part2(grid):\n",
    "    MOVES = [[0,1],[-1,0],[0,-2],[2,0],[0,2]]\n",
    "    cur_number = 1\n",
    "    grid_size = len(grid)\n",
    "    center_x,center_y = loc = [grid_size // 2] * 2\n",
    "    grid[center_x][center_y] = 1\n",
    "    def move(loc,move,cur_number):\n",
    "        new_loc = vector_process(loc,move)\n",
    "        cur_number = sum(grid[x][y] for x,y in neighbors(new_loc))\n",
    "        return new_loc,cur_number\n",
    "    def neighbors(loc):\n",
    "        return [vector_process(loc,(i,j)) for i in range(-1,2)\n",
    "                                          for j in range(-1,2) \n",
    "                                          if (0 <= i + loc[0] < grid_size and 0 <= j + loc[1] < grid_size)\n",
    "                                          and (i,j) != (0,0)]\n",
    "    while True:\n",
    "        for m in MOVES:\n",
    "            for c in cumulative_move_steps(m):\n",
    "                loc,cur_number = move(loc,c,cur_number)\n",
    "                grid[loc[0]][loc[1]] = cur_number\n",
    "                if cur_number > target:\n",
    "                # return manhattan_distance(loc,[center_x,center_y]) RTFM\n",
    "                    return cur_number\n",
    "        MOVES =  [vector_process(m[0],m[1]) \n",
    "                  for m in zip(MOVES,INCREMENTS)]\n",
    "\n",
    "\n",
    "print(part2(make_grid(515,515)))"
   ]
  },
  {
   "cell_type": "markdown",
   "metadata": {},
   "source": [
    "The following were my original attempts at solving the puzzle before I threw in the towel and slept on it.  The next day I still could'nt figure out how to use these to solve part 1 so I just caved and chose to build the grid as seen above.  I still got some satisfaction out of this though, because I really like recursion and always feel recursive solutions are elegant and beautiful :)"
   ]
  },
  {
   "cell_type": "code",
   "execution_count": 139,
   "metadata": {},
   "outputs": [],
   "source": [
    "diags = [3,9,7,5]\n",
    "lrud =  [2,4,6,8]  \n",
    "\n",
    "def gen_spiral(n,target = target):\n",
    "    n = n\n",
    "    d = n - 1\n",
    "    steps = 1\n",
    "    nums = [n]\n",
    "    while n < target:\n",
    "        d += 8\n",
    "        n += d\n",
    "        steps += 1\n",
    "        nums.append(n)\n",
    "    return nums\n",
    "    \n",
    "for d in diags:\n",
    "    spirals = gen_spiral(d)\n",
    "    if target in spirals:\n",
    "        print(spirals.index(target) * 2)\n",
    "        break\n",
    "for x in lrud:\n",
    "    spirals = gen_spiral(x)\n",
    "    if target in spirals:\n",
    "        print(spirals.index(target))\n",
    "        break\n",
    "            \n"
   ]
  },
  {
   "cell_type": "code",
   "execution_count": 142,
   "metadata": {},
   "outputs": [
    {
     "name": "stdout",
     "output_type": "stream",
     "text": [
      "[6, 19, 40, 69, 106, 151, 204, 265, 334, 411]\n"
     ]
    }
   ],
   "source": [
    "print(gen_spiral(6)[0:10])"
   ]
  },
  {
   "cell_type": "code",
   "execution_count": 152,
   "metadata": {},
   "outputs": [
    {
     "name": "stdout",
     "output_type": "stream",
     "text": [
      "[24, 47, 78, 117, 164, 219, 282, 353, 432, 519]\n"
     ]
    }
   ],
   "source": [
    "def gen_spiral(n,prevn):\n",
    "    yield n\n",
    "    d = n - prevn + 8\n",
    "    n += d\n",
    "    if n < target: yield from gen_spiral(n,n-d)\n",
    "\n",
    "print(list(gen_spiral(24,9))[0:10])"
   ]
  },
  {
   "cell_type": "code",
   "execution_count": 153,
   "metadata": {},
   "outputs": [
    {
     "data": {
      "text/plain": [
       "[1, 9, 25, 49, 81, 121, 169, 225, 289, 361]"
      ]
     },
     "execution_count": 153,
     "metadata": {},
     "output_type": "execute_result"
    }
   ],
   "source": [
    "def spiral(n):\n",
    "    return 1 if n <= 0 else 2 * spiral(n-1) - spiral(n-2) + 8\n",
    "\n",
    "list(map(spiral,range(0,10)))"
   ]
  },
  {
   "cell_type": "markdown",
   "metadata": {},
   "source": [
    "# Day 4\n",
    "Here the input is a colleciton of strings delimited by newlines.  Within each string, or \"phrase\", we need to see if there are any duplicates and filter those out, and then count the remaining \"phrases\"."
   ]
  },
  {
   "cell_type": "markdown",
   "metadata": {},
   "source": [
    "## Part One"
   ]
  },
  {
   "cell_type": "code",
   "execution_count": 15,
   "metadata": {},
   "outputs": [],
   "source": [
    "data = open('day4.txt').read().strip()\n",
    "words = data.split('\\n')"
   ]
  },
  {
   "cell_type": "code",
   "execution_count": 16,
   "metadata": {},
   "outputs": [
    {
     "name": "stdout",
     "output_type": "stream",
     "text": [
      "325\n"
     ]
    }
   ],
   "source": [
    "valid = [phrase for phrase in words if len(set(phrase.split())) == len(phrase.split())]\n",
    "print(len(valid))"
   ]
  },
  {
   "cell_type": "markdown",
   "metadata": {},
   "source": [
    "## Part Two\n",
    "To get anagrams of a word I just found all permutations of the word in question, and then checked the rest of the list for each permutation.  This can be wasteful since you end up calculating unnecessary permutations - for example, if your list is \n",
    "\n",
    "['Christian','Christina']\n",
    "\n",
    "Only the last two letters have changed, so you should not consider any permutations where any of the first seven letters differ.  You can do this by creating a list of valid prefixes of your candidates, and making sure to not progress along the permutaitons unless your current permutation is seen in that candidate prefix list.  \n",
    "\n",
    "Because the amount of data I'm dealing with is small, and I am trying to move quickly, I'm not going to prematurely optimize and just brute force it by calculating all permutations, regardless of whether or not they are potentially invalid early on."
   ]
  },
  {
   "cell_type": "code",
   "execution_count": 17,
   "metadata": {},
   "outputs": [],
   "source": [
    "def anagrams(word):\n",
    "    return {''.join(a) for a in (itertools.permutations(word))}\n"
   ]
  },
  {
   "cell_type": "code",
   "execution_count": 18,
   "metadata": {},
   "outputs": [],
   "source": [
    "def anagram_found(text):\n",
    "    words = text.split()\n",
    "    for i in range(len(words) - 1):\n",
    "        for a in anagrams(words[i]):\n",
    "            if a in words[i+1:]:\n",
    "                return True\n",
    "    return False\n",
    "            "
   ]
  },
  {
   "cell_type": "code",
   "execution_count": 19,
   "metadata": {},
   "outputs": [],
   "source": [
    "assert(not(anagram_found('abcde fghij')))\n",
    "assert(anagram_found('abcde xyz ecdab'))\n",
    "assert(not(anagram_found('a ab abc abd abf abj')))\n",
    "assert(not(anagram_found('iiii oiii ooii oooi oooo')))\n",
    "assert(anagram_found('oiii ioii iioi iiio'))"
   ]
  },
  {
   "cell_type": "code",
   "execution_count": 20,
   "metadata": {},
   "outputs": [
    {
     "data": {
      "text/plain": [
       "119"
      ]
     },
     "execution_count": 20,
     "metadata": {},
     "output_type": "execute_result"
    }
   ],
   "source": [
    "phrases = [phrase for phrase in words if not(anagram_found(phrase))]\n",
    "len(phrases)"
   ]
  },
  {
   "cell_type": "code",
   "execution_count": 21,
   "metadata": {},
   "outputs": [
    {
     "data": {
      "text/plain": [
       "['ojufqke gpd olzirc jfao cjfh rcivvw pqqpudp',\n",
       " 'wchrl pzibt nvcae wceb',\n",
       " 'rdwytj kxuyet bqnzlv nyntjan dyrpsn zhi kbxlj ivo',\n",
       " 'qwx ubca dxudny oxagv wqrv lhzsl qmsgv dxs awbquc akelgma',\n",
       " 'rrdlfpk ohoszz qiznasf awchv qnvse']"
      ]
     },
     "execution_count": 21,
     "metadata": {},
     "output_type": "execute_result"
    }
   ],
   "source": [
    "phrases[0:5]"
   ]
  },
  {
   "cell_type": "markdown",
   "metadata": {},
   "source": [
    "# Day 5\n",
    "Day 5 reminds me of some of the problems from last year where you had to build a mini interpreter for a limited set of machine instructions, but on a smaller scale.  The instructions turned out to be fast enough without trying to find a patterm or optimizing the sequence by some form of pre-processing, but I wouldn't be surprised if, like last year, later puzzles build on the sequence and make it prohitively slow without some optmizations.  \n",
    "\n",
    "As presented, it's fairly easy to solve using some globals to keep state, and just bailing once the position is outside of the list.  I do wonder how I'll approach this in a more functional style, since I'm trying to do all of these problems in Clojure once I've finished them in Python first.  Typically whenever I think `while` in an imperative language, I think `reduce` in a functional language, so I'll probably start there."
   ]
  },
  {
   "cell_type": "code",
   "execution_count": 27,
   "metadata": {},
   "outputs": [],
   "source": [
    "data = open('day5.txt').read().strip().split('\\n')\n",
    "nums = [int(x) for x in data]"
   ]
  },
  {
   "cell_type": "markdown",
   "metadata": {},
   "source": [
    "## Part One"
   ]
  },
  {
   "cell_type": "code",
   "execution_count": 23,
   "metadata": {},
   "outputs": [
    {
     "name": "stdout",
     "output_type": "stream",
     "text": [
      "381680\n"
     ]
    }
   ],
   "source": [
    "pos = 0\n",
    "cnt = 0\n",
    "while pos in range(len(nums)):\n",
    "    offset = nums[pos]\n",
    "    nums[pos] += 1\n",
    "    pos += offset\n",
    "    cnt += 1\n",
    "print(cnt)    "
   ]
  },
  {
   "cell_type": "markdown",
   "metadata": {},
   "source": [
    "## Part Two"
   ]
  },
  {
   "cell_type": "code",
   "execution_count": 24,
   "metadata": {},
   "outputs": [
    {
     "name": "stdout",
     "output_type": "stream",
     "text": [
      "29717847\n"
     ]
    }
   ],
   "source": [
    "nums = [int(x) for x in data] #rebuild nums since we mutated it in step 1\n",
    "\n",
    "pos = 0\n",
    "cnt = 0\n",
    "while pos in range(len(nums)):\n",
    "    offset = nums[pos]\n",
    "    if offset >= 3:\n",
    "        nums[pos] -=1\n",
    "    else:\n",
    "        nums[pos] +=1\n",
    "    pos += offset\n",
    "    cnt += 1\n",
    "print(cnt)    "
   ]
  },
  {
   "cell_type": "markdown",
   "metadata": {},
   "source": [
    "# Day 6\n",
    "This puzzle involves taking a sequence of numbers, or \"memory banks\", each of which has \"n\" blocks.  We are asked to find how many cycles it takes until any sequence is seen a second time, where a cycle is defined as follows:\n",
    "- find the maximum of the sequence, ties are by the first seen (lowest index)\n",
    "- reduce the blocks at this location to zero, and spread that amount over all of the subsequent banks (list elements), wrapping around once the end is hit.\n",
    "- return the number of cycles that have occured once a repeat is hit."
   ]
  },
  {
   "cell_type": "code",
   "execution_count": 122,
   "metadata": {
    "collapsed": true
   },
   "outputs": [],
   "source": [
    "nums = [10,3,15,10,5,15,5,15,9,2,5,8,5,2,3,6]"
   ]
  },
  {
   "cell_type": "markdown",
   "metadata": {},
   "source": [
    "## Part One\n",
    "I started down the path of a recursive solution, because that seemed the most natural to me at the time.  Just make the updates to the list, add the result to the `seen` set, and recur with an incremented count.  Except I forgot about the 1,000 depth recursion limit in Python.  I guess this is what happens when you spend too much time in Clojure lately.  I burned a good 20 minutes trying to manually increase the recursion limit using `sys.setrecursionlimit(n)` and kept getting an infuriating error `TypeError: 'int' object is not callable`.  I eventually gave up since this isn't the documented behavior and I couldn't figure out why it was failing.  In any event, I probably should not treat an iterative problem with a recursive solution in a language without tail call optmization, so I just converted the solution to a nested `while` loop instead.\n",
    "\n",
    "Here is my recursive version, which worked on the small test input and then exploded on the actual input when the limit surpassed 1,000:"
   ]
  },
  {
   "cell_type": "code",
   "execution_count": 124,
   "metadata": {},
   "outputs": [],
   "source": [
    "def cycle(nums,res=set(),cnt=1):\n",
    "    highest = max(nums)\n",
    "    loc = nums.index(highest)\n",
    "    nums[loc] = 0\n",
    "    while highest > 0:\n",
    "        loc += 1\n",
    "        if loc > len(nums) - 1:\n",
    "            loc =  loc % (len(nums))\n",
    "        nums[loc] += 1\n",
    "        highest -= 1\n",
    "    if tuple(nums) in res:\n",
    "        return nums,cnt\n",
    "    res.add(tuple(nums))\n",
    "    return cycle(nums,res,cnt+1)"
   ]
  },
  {
   "cell_type": "markdown",
   "metadata": {},
   "source": [
    "and here is the version I had to replace it with after giving up on changing the recursion limit (which is obviously bad form, but I had already invested time in a working solution and wanted to not burn more time by re-writing (which didn't really take that much effort in the end anyhow).  Something about this solution rubs me the wrong way, it doesn't feel that elegant but it gets the job done.  I think it's the nested while loops that are giving me that feeling.  Anyhow - when I'm trying to solve these fast I focus on just getting something working first, making it pretty comes later.  Maybe I'll clean all these up and show the first version and the second polished version when I have more time."
   ]
  },
  {
   "cell_type": "code",
   "execution_count": 120,
   "metadata": {},
   "outputs": [
    {
     "name": "stdout",
     "output_type": "stream",
     "text": [
      "[1, 1, 0, 15, 14, 13, 12, 10, 10, 9, 8, 7, 6, 4, 3, 5] 14029\n"
     ]
    }
   ],
   "source": [
    "nums = [10,3,15,10,5,15,5,15,9,2,5,8,5,2,3,6] #rebind since mutated above\n",
    "seen = set()\n",
    "cnt = 1\n",
    "while True:\n",
    "    highest = max(nums)\n",
    "    loc = nums.index(highest)\n",
    "    nums[loc] = 0\n",
    "    while highest > 0:\n",
    "        loc += 1\n",
    "        if loc > len(nums) - 1:\n",
    "            loc =  loc % (len(nums))\n",
    "        nums[loc] += 1\n",
    "        highest -= 1\n",
    "    if tuple(nums) in seen:\n",
    "        print(nums,cnt)\n",
    "        break\n",
    "    seen.add(tuple(nums))\n",
    "    cnt += 1\n"
   ]
  },
  {
   "cell_type": "markdown",
   "metadata": {},
   "source": [
    "## Part Two\n",
    "Here the problem is modified such that instead of finding the cycles, we find the distance between cycles.  E.G. if the first occurence was on our third cycle, and the repeat of that occurence was at the 10th cycle, the distance is seven.  The only modificaton I need to make is swapping out my `seen` set for a dictionary, with the key as the actual sequence (tuple so it's hashable), and the value as the cycle it occured in.  On repeat I just find the current count minus the previous count, which i look up using the current sequence."
   ]
  },
  {
   "cell_type": "code",
   "execution_count": 121,
   "metadata": {},
   "outputs": [
    {
     "name": "stdout",
     "output_type": "stream",
     "text": [
      "[1, 1, 0, 15, 14, 13, 12, 10, 10, 9, 8, 7, 6, 4, 3, 5] 2765\n"
     ]
    }
   ],
   "source": [
    "nums = [10,3,15,10,5,15,5,15,9,2,5,8,5,2,3,6] #rebind since mutated above\n",
    "seen = dict()\n",
    "cnt = 1\n",
    "while True:\n",
    "    highest = max(nums)\n",
    "    loc = nums.index(highest)\n",
    "    nums[loc] = 0\n",
    "    while highest > 0:\n",
    "        loc += 1\n",
    "        if loc > len(nums) - 1:\n",
    "            loc =  loc % (len(nums))\n",
    "        nums[loc] += 1\n",
    "        highest -= 1\n",
    "    if tuple(nums) in seen:\n",
    "        print(nums,cnt - seen[tuple(nums)])\n",
    "        break\n",
    "    seen[tuple(nums)] = cnt\n",
    "    cnt += 1\n",
    "\n"
   ]
  },
  {
   "cell_type": "markdown",
   "metadata": {},
   "source": [
    "# Day Seven"
   ]
  },
  {
   "cell_type": "code",
   "execution_count": null,
   "metadata": {
    "collapsed": true
   },
   "outputs": [],
   "source": []
  },
  {
   "cell_type": "markdown",
   "metadata": {},
   "source": [
    "## Part One"
   ]
  },
  {
   "cell_type": "code",
   "execution_count": null,
   "metadata": {
    "collapsed": true
   },
   "outputs": [],
   "source": []
  }
 ],
 "metadata": {
  "kernelspec": {
   "display_name": "Python 3",
   "language": "python",
   "name": "python3"
  },
  "language_info": {
   "codemirror_mode": {
    "name": "ipython",
    "version": 3
   },
   "file_extension": ".py",
   "mimetype": "text/x-python",
   "name": "python",
   "nbconvert_exporter": "python",
   "pygments_lexer": "ipython3",
   "version": "3.6.1"
  }
 },
 "nbformat": 4,
 "nbformat_minor": 2
}
